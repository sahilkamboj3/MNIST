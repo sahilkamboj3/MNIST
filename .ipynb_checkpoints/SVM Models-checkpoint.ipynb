{
 "cells": [
  {
   "cell_type": "code",
   "execution_count": 89,
   "metadata": {},
   "outputs": [],
   "source": [
    "import numpy as np\n",
    "import matplotlib.pyplot as plt\n",
    "from matplotlib import style\n",
    "%matplotlib inline\n",
    "\n",
    "from sklearn import svm\n",
    "from sklearn import datasets\n",
    "from sklearn.model_selection import train_test_split, cross_val_score, cross_val_predict\n",
    "from sklearn.metrics import confusion_matrix, recall_score, precision_score, f1_score, classification_report\n",
    "from sklearn.preprocessing import StandardScaler\n",
    "\n",
    "mnist = datasets.load_digits()"
   ]
  },
  {
   "cell_type": "code",
   "execution_count": 90,
   "metadata": {},
   "outputs": [],
   "source": [
    "X = mnist['data']\n",
    "y = mnist['target']"
   ]
  },
  {
   "cell_type": "markdown",
   "metadata": {},
   "source": [
    "# Data Splitting"
   ]
  },
  {
   "cell_type": "code",
   "execution_count": 91,
   "metadata": {},
   "outputs": [
    {
     "data": {
      "text/plain": [
       "array([[ 0.        , -0.3364527 , -0.04455828, ...,  0.04704305,\n",
       "        -0.49833104, -0.19170759],\n",
       "       [ 0.        , -0.3364527 ,  0.79794497, ...,  0.90058927,\n",
       "         0.50813657, -0.19170759],\n",
       "       [ 0.        , -0.3364527 ,  0.58731916, ..., -1.14792166,\n",
       "        -0.49833104, -0.19170759],\n",
       "       ...,\n",
       "       [ 0.        , -0.3364527 , -0.67643571, ...,  0.38846154,\n",
       "        -0.49833104, -0.19170759],\n",
       "       [ 0.        , -0.3364527 ,  0.16606753, ..., -1.14792166,\n",
       "        -0.49833104, -0.19170759],\n",
       "       [ 0.        , -0.3364527 , -1.09768734, ..., -0.63579393,\n",
       "        -0.49833104, -0.19170759]])"
      ]
     },
     "execution_count": 91,
     "metadata": {},
     "output_type": "execute_result"
    }
   ],
   "source": [
    "train_size = 0.8\n",
    "\n",
    "X_train, X_test, y_train, y_test = train_test_split(X, y, test_size=0.2)\n",
    "\n",
    "shuffle_index = np.random.permutation(len(X_train))\n",
    "X_train, y_train = X_train[shuffle_index], y_train[shuffle_index]\n",
    "\n",
    "scaler = StandardScaler()\n",
    "X_train = scaler.fit_transform(X_train.astype(np.float64))\n",
    "X_train"
   ]
  },
  {
   "cell_type": "markdown",
   "metadata": {},
   "source": [
    "# Helper Functions"
   ]
  },
  {
   "cell_type": "code",
   "execution_count": 92,
   "metadata": {},
   "outputs": [],
   "source": [
    "def conf_matrix_info(X_train_preds, y_scores):\n",
    "    precision = precision_score(X_train_preds, y_scores, average='weighted')\n",
    "    recall = recall_score(X_train_preds, y_scores, average='weighted')\n",
    "    f1 = f1_score(X_train_preds, y_scores, average='weighted')\n",
    "    print(f'Precision: {precision}')\n",
    "    print(f'Recall: {recall}')\n",
    "    print(f'f1: {f1}')"
   ]
  },
  {
   "cell_type": "markdown",
   "metadata": {},
   "source": [
    "# SVC"
   ]
  },
  {
   "cell_type": "code",
   "execution_count": 93,
   "metadata": {},
   "outputs": [],
   "source": [
    "svc = svm.SVC(kernel='linear', gamma='auto', C=2, random_state=42)"
   ]
  },
  {
   "cell_type": "code",
   "execution_count": 94,
   "metadata": {},
   "outputs": [
    {
     "name": "stdout",
     "output_type": "stream",
     "text": [
      "[0.98281787 0.98269896 0.9825784  0.97902098 0.97887324]\n",
      "0.9811978894047332\n"
     ]
    }
   ],
   "source": [
    "scores = cross_val_score(svc, X_train, y_train, cv=5, scoring='accuracy')\n",
    "print(scores)\n",
    "print(scores.mean())"
   ]
  },
  {
   "cell_type": "code",
   "execution_count": 95,
   "metadata": {
    "scrolled": true
   },
   "outputs": [
    {
     "data": {
      "text/plain": [
       "array([[ 2.75314997,  4.71206444, -0.28222834, ...,  0.70171156,\n",
       "         9.32008362,  8.25578758],\n",
       "       [-0.30481144,  6.15473986,  9.30889309, ...,  0.71002416,\n",
       "         6.29337468,  2.72769161],\n",
       "       [ 0.70533729,  9.29283578,  2.76919077, ...,  4.76873828,\n",
       "         8.31813025, -0.30723639],\n",
       "       ...,\n",
       "       [ 9.30789083, -0.31017793,  2.98662235, ...,  3.77186327,\n",
       "         6.2843601 ,  7.2675005 ],\n",
       "       [-0.29902281,  3.79808544,  5.19525792, ...,  9.31533798,\n",
       "         5.2500186 ,  3.76675243],\n",
       "       [ 7.2757502 ,  6.28504488, -0.31155137, ...,  5.26166867,\n",
       "         4.26732475,  1.69537701]])"
      ]
     },
     "execution_count": 95,
     "metadata": {},
     "output_type": "execute_result"
    }
   ],
   "source": [
    "pred_scores = cross_val_predict(svc, X_train, y_train, cv=5, method='decision_function')\n",
    "pred_scores"
   ]
  },
  {
   "cell_type": "code",
   "execution_count": 96,
   "metadata": {},
   "outputs": [],
   "source": [
    "svc_preds_array = []\n",
    "\n",
    "for i in pred_scores:\n",
    "    svc_preds_array.append(i.argmax())"
   ]
  },
  {
   "cell_type": "code",
   "execution_count": 97,
   "metadata": {
    "scrolled": true
   },
   "outputs": [
    {
     "data": {
      "text/plain": [
       "array([[140,   0,   0,   0,   0,   0,   1,   0,   0,   0],\n",
       "       [  0, 142,   0,   1,   0,   0,   0,   0,   0,   1],\n",
       "       [  0,   0, 142,   0,   0,   0,   0,   0,   0,   0],\n",
       "       [  0,   0,   1, 152,   0,   0,   0,   0,   1,   1],\n",
       "       [  0,   0,   0,   0, 140,   0,   0,   0,   0,   0],\n",
       "       [  0,   0,   0,   0,   0, 138,   1,   0,   0,   2],\n",
       "       [  0,   1,   0,   0,   1,   0, 137,   0,   1,   0],\n",
       "       [  0,   0,   0,   0,   1,   0,   0, 140,   1,   1],\n",
       "       [  0,   5,   0,   0,   0,   2,   0,   0, 134,   1],\n",
       "       [  0,   0,   0,   2,   0,   2,   0,   0,   3, 142]])"
      ]
     },
     "execution_count": 97,
     "metadata": {},
     "output_type": "execute_result"
    }
   ],
   "source": [
    "svc_matrix = confusion_matrix(y_train, svc_preds_array)\n",
    "svc_matrix"
   ]
  },
  {
   "cell_type": "code",
   "execution_count": 98,
   "metadata": {},
   "outputs": [
    {
     "data": {
      "image/png": "[encoded data removed]",
      "text/plain": [
       "<Figure size 288x288 with 1 Axes>"
      ]
     },
     "metadata": {
      "needs_background": "light"
     },
     "output_type": "display_data"
    }
   ],
   "source": [
    "plt.matshow(svc_matrix, cmap=plt.cm.gray)\n",
    "plt.xlabel('Predictions')\n",
    "plt.ylabel('Actual')\n",
    "plt.show()"
   ]
  },
  {
   "cell_type": "code",
   "execution_count": 99,
   "metadata": {},
   "outputs": [
    {
     "name": "stdout",
     "output_type": "stream",
     "text": [
      "Precision: 0.9792444548390792\n",
      "Recall: 0.9791231732776617\n",
      "f1: 0.9791385965961544\n"
     ]
    }
   ],
   "source": [
    "conf_matrix_info(svc_preds_array, y_train)"
   ]
  },
  {
   "cell_type": "code",
   "execution_count": 100,
   "metadata": {},
   "outputs": [
    {
     "name": "stdout",
     "output_type": "stream",
     "text": [
      "              precision    recall  f1-score   support\n",
      "\n",
      "           0       0.99      1.00      1.00       140\n",
      "           1       0.99      0.96      0.97       148\n",
      "           2       1.00      0.99      1.00       143\n",
      "           3       0.98      0.98      0.98       155\n",
      "           4       1.00      0.99      0.99       142\n",
      "           5       0.98      0.97      0.98       142\n",
      "           6       0.98      0.99      0.98       139\n",
      "           7       0.98      1.00      0.99       140\n",
      "           8       0.94      0.96      0.95       140\n",
      "           9       0.95      0.96      0.96       148\n",
      "\n",
      "    accuracy                           0.98      1437\n",
      "   macro avg       0.98      0.98      0.98      1437\n",
      "weighted avg       0.98      0.98      0.98      1437\n",
      "\n"
     ]
    }
   ],
   "source": [
    "print(classification_report(svc_preds_array, y_train))"
   ]
  },
  {
   "cell_type": "markdown",
   "metadata": {},
   "source": [
    "# Linear SVC"
   ]
  },
  {
   "cell_type": "code",
   "execution_count": 101,
   "metadata": {},
   "outputs": [],
   "source": [
    "linear_svc = svm.LinearSVC(penalty='l2', random_state=42, max_iter=5000)"
   ]
  },
  {
   "cell_type": "code",
   "execution_count": 102,
   "metadata": {},
   "outputs": [
    {
     "name": "stdout",
     "output_type": "stream",
     "text": [
      "[0.97250859 0.9550173  0.93379791 0.95804196 0.96126761]\n",
      "0.9561266730373561\n"
     ]
    }
   ],
   "source": [
    "scores = cross_val_score(linear_svc, X_train, y_train, cv=5, scoring='accuracy')\n",
    "print(scores)\n",
    "print(scores.mean())"
   ]
  },
  {
   "cell_type": "code",
   "execution_count": 103,
   "metadata": {},
   "outputs": [],
   "source": [
    "linear_svc_pred = cross_val_predict(linear_svc, X_train, y_train, cv=5, method='decision_function')"
   ]
  },
  {
   "cell_type": "code",
   "execution_count": 104,
   "metadata": {},
   "outputs": [],
   "source": [
    "linear_svc_preds_array = []\n",
    "\n",
    "for i in linear_svc_pred:\n",
    "    linear_svc_preds_array.append(i.argmax())"
   ]
  },
  {
   "cell_type": "code",
   "execution_count": 105,
   "metadata": {},
   "outputs": [
    {
     "data": {
      "text/plain": [
       "array([[140,   0,   0,   0,   0,   0,   1,   0,   0,   0],\n",
       "       [  0, 136,   0,   0,   1,   1,   1,   0,   6,   0],\n",
       "       [  0,   0, 141,   1,   0,   0,   0,   2,   1,   0],\n",
       "       [  0,   2,   1, 147,   0,   0,   0,   0,   2,   2],\n",
       "       [  1,   0,   0,   0, 136,   0,   0,   0,   1,   1],\n",
       "       [  0,   1,   0,   2,   0, 136,   1,   0,   1,   2],\n",
       "       [  0,   1,   0,   0,   0,   1, 136,   1,   3,   0],\n",
       "       [  0,   0,   0,   1,   1,   1,   0, 138,   1,   2],\n",
       "       [  0,   4,   0,   2,   1,   0,   0,   0, 125,   3],\n",
       "       [  0,   0,   0,   2,   1,   2,   1,   2,   2, 139]])"
      ]
     },
     "execution_count": 105,
     "metadata": {},
     "output_type": "execute_result"
    }
   ],
   "source": [
    "linear_svc_matrix = confusion_matrix(linear_svc_preds_array, y_train)\n",
    "linear_svc_matrix"
   ]
  },
  {
   "cell_type": "code",
   "execution_count": 106,
   "metadata": {},
   "outputs": [
    {
     "data": {
      "image/png": "[encoded data removed]",
      "text/plain": [
       "<Figure size 288x288 with 1 Axes>"
      ]
     },
     "metadata": {
      "needs_background": "light"
     },
     "output_type": "display_data"
    }
   ],
   "source": [
    "plt.matshow(linear_svc_matrix, cmap=plt.cm.gray)\n",
    "plt.xlabel('Predictions')\n",
    "plt.ylabel('Actual')\n",
    "plt.show()"
   ]
  },
  {
   "cell_type": "code",
   "execution_count": 107,
   "metadata": {},
   "outputs": [
    {
     "name": "stdout",
     "output_type": "stream",
     "text": [
      "Precision: 0.9566308283276054\n",
      "Recall: 0.9561586638830898\n",
      "f1: 0.9563156224329831\n"
     ]
    }
   ],
   "source": [
    "conf_matrix_info(linear_svc_preds_array, y_train)"
   ]
  },
  {
   "cell_type": "code",
   "execution_count": 108,
   "metadata": {},
   "outputs": [
    {
     "name": "stdout",
     "output_type": "stream",
     "text": [
      "              precision    recall  f1-score   support\n",
      "\n",
      "           0       0.99      0.99      0.99       141\n",
      "           1       0.94      0.94      0.94       145\n",
      "           2       0.99      0.97      0.98       145\n",
      "           3       0.95      0.95      0.95       154\n",
      "           4       0.97      0.98      0.97       139\n",
      "           5       0.96      0.95      0.96       143\n",
      "           6       0.97      0.96      0.96       142\n",
      "           7       0.97      0.96      0.96       144\n",
      "           8       0.88      0.93      0.90       135\n",
      "           9       0.93      0.93      0.93       149\n",
      "\n",
      "    accuracy                           0.96      1437\n",
      "   macro avg       0.96      0.96      0.96      1437\n",
      "weighted avg       0.96      0.96      0.96      1437\n",
      "\n"
     ]
    }
   ],
   "source": [
    "print(classification_report(linear_svc_preds_array, y_train))"
   ]
  }
 ],
 "metadata": {
  "kernelspec": {
   "display_name": "Python 3.7.3 64-bit",
   "language": "python",
   "name": "python37364bitfa9893814aec4ef7b4684d6771155a64"
  },
  "language_info": {
   "codemirror_mode": {
    "name": "ipython",
    "version": 3
   },
   "file_extension": ".py",
   "mimetype": "text/x-python",
   "name": "python",
   "nbconvert_exporter": "python",
   "pygments_lexer": "ipython3",
   "version": "3.7.3"
  }
 },
 "nbformat": 4,
 "nbformat_minor": 2
}
