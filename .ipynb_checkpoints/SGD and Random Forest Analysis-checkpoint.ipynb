{
 "cells": [
  {
   "cell_type": "code",
   "execution_count": 58,
   "metadata": {},
   "outputs": [],
   "source": [
    "import matplotlib.pyplot as plt\n",
    "from matplotlib import style\n",
    "%matplotlib inline\n",
    "import seaborn as sns\n",
    "import numpy as np\n",
    "import warnings\n",
    "\n",
    "from sklearn import datasets\n",
    "from sklearn.model_selection import train_test_split, cross_val_score, cross_val_predict\n",
    "from sklearn.linear_model import SGDClassifier\n",
    "from sklearn.ensemble import RandomForestClassifier\n",
    "from sklearn.metrics import confusion_matrix, recall_score, precision_score, f1_score\n",
    "from sklearn.preprocessing import StandardScaler\n",
    "\n",
    "mnist = datasets.load_digits()\n",
    "warnings.filterwarnings('ignore')"
   ]
  },
  {
   "cell_type": "code",
   "execution_count": 59,
   "metadata": {},
   "outputs": [],
   "source": [
    "X = mnist['data']\n",
    "y = mnist['target']"
   ]
  },
  {
   "cell_type": "code",
   "execution_count": 60,
   "metadata": {},
   "outputs": [
    {
     "data": {
      "text/plain": [
       "((1797, 64), (1797,))"
      ]
     },
     "execution_count": 60,
     "metadata": {},
     "output_type": "execute_result"
    }
   ],
   "source": [
    "X.shape, y.shape"
   ]
  },
  {
   "cell_type": "code",
   "execution_count": 61,
   "metadata": {},
   "outputs": [
    {
     "data": {
      "text/plain": [
       "array([ 0.,  0.,  5., 13.,  9.,  1.,  0.,  0.,  0.,  0., 13., 15., 10.,\n",
       "       15.,  5.,  0.,  0.,  3., 15.,  2.,  0., 11.,  8.,  0.,  0.,  4.,\n",
       "       12.,  0.,  0.,  8.,  8.,  0.,  0.,  5.,  8.,  0.,  0.,  9.,  8.,\n",
       "        0.,  0.,  4., 11.,  0.,  1., 12.,  7.,  0.,  0.,  2., 14.,  5.,\n",
       "       10., 12.,  0.,  0.,  0.,  0.,  6., 13., 10.,  0.,  0.,  0.])"
      ]
     },
     "execution_count": 61,
     "metadata": {},
     "output_type": "execute_result"
    }
   ],
   "source": [
    "X[0]"
   ]
  },
  {
   "cell_type": "markdown",
   "metadata": {},
   "source": [
    "# Data Splitting"
   ]
  },
  {
   "cell_type": "code",
   "execution_count": 62,
   "metadata": {},
   "outputs": [],
   "source": [
    "train_size = 0.8"
   ]
  },
  {
   "cell_type": "code",
   "execution_count": 63,
   "metadata": {},
   "outputs": [],
   "source": [
    "X_train, X_test, y_train, y_test = train_test_split(X, y, test_size=0.2)"
   ]
  },
  {
   "cell_type": "code",
   "execution_count": 64,
   "metadata": {},
   "outputs": [],
   "source": [
    "shuffle_index = np.random.permutation(len(X_train))\n",
    "X_train, y_train = X_train[shuffle_index], y_train[shuffle_index]"
   ]
  },
  {
   "cell_type": "code",
   "execution_count": 65,
   "metadata": {},
   "outputs": [
    {
     "data": {
      "text/plain": [
       "array([[ 0.        , -0.33786108, -1.10549938, ...,  1.57231041,\n",
       "         0.22980696, -0.19916379],\n",
       "       [ 0.        , -0.33786108,  0.14734179, ...,  1.23280477,\n",
       "         2.66694788, -0.19916379],\n",
       "       [ 0.        , -0.33786108,  1.60898983, ...,  0.89329912,\n",
       "        -0.50133532, -0.19916379],\n",
       "       ...,\n",
       "       [ 0.        , -0.33786108, -0.27027193, ...,  0.89329912,\n",
       "        -0.25762123, -0.19916379],\n",
       "       [ 0.        , -0.33786108, -0.06146507, ..., -0.97398192,\n",
       "        -0.50133532, -0.19916379],\n",
       "       [ 0.        ,  0.76807599,  1.60898983, ..., -0.29497063,\n",
       "        -0.50133532, -0.19916379]])"
      ]
     },
     "execution_count": 65,
     "metadata": {},
     "output_type": "execute_result"
    }
   ],
   "source": [
    "scaler = StandardScaler()\n",
    "X_train = scaler.fit_transform(X_train.astype(np.float64))\n",
    "X_train"
   ]
  },
  {
   "cell_type": "markdown",
   "metadata": {},
   "source": [
    "# Helper Functions"
   ]
  },
  {
   "cell_type": "code",
   "execution_count": 66,
   "metadata": {},
   "outputs": [],
   "source": [
    "def conf_matrix_info(X_train_preds, y_scores):\n",
    "    precision = precision_score(X_train_preds, y_scores, average='weighted')\n",
    "    recall = recall_score(X_train_preds, y_scores, average='weighted')\n",
    "    f1 = f1_score(X_train_preds, y_scores, average='weighted')\n",
    "    print(f'Precision: {precision}')\n",
    "    print(f'Recall: {recall}')\n",
    "    print(f'f1: {f1}')"
   ]
  },
  {
   "cell_type": "markdown",
   "metadata": {},
   "source": [
    "# SGD Classifier"
   ]
  },
  {
   "cell_type": "code",
   "execution_count": 67,
   "metadata": {},
   "outputs": [],
   "source": [
    "sgd = SGDClassifier(random_state=42)"
   ]
  },
  {
   "cell_type": "code",
   "execution_count": 68,
   "metadata": {},
   "outputs": [],
   "source": [
    "sgd_scores = cross_val_score(sgd, X_train, y_train, cv=5, scoring='accuracy')"
   ]
  },
  {
   "cell_type": "code",
   "execution_count": 69,
   "metadata": {
    "scrolled": true
   },
   "outputs": [
    {
     "name": "stdout",
     "output_type": "stream",
     "text": [
      "scores: [0.94845361 0.95517241 0.93079585 0.95774648 0.94699647]\n",
      "average: 0.9478329630191451\n"
     ]
    }
   ],
   "source": [
    "print(f'scores: {sgd_scores}')\n",
    "print(f'average: {sgd_scores.mean()}')"
   ]
  },
  {
   "cell_type": "code",
   "execution_count": 70,
   "metadata": {},
   "outputs": [],
   "source": [
    "# Testing with cross_val_predict to get the actual scores."
   ]
  },
  {
   "cell_type": "code",
   "execution_count": 71,
   "metadata": {
    "scrolled": true
   },
   "outputs": [],
   "source": [
    "sgd_pred_scores = cross_val_predict(sgd, X_train, y_train, cv=5, method='decision_function')"
   ]
  },
  {
   "cell_type": "code",
   "execution_count": 72,
   "metadata": {},
   "outputs": [],
   "source": [
    "sgd_X_train_preds = []\n",
    "\n",
    "for i in sgd_pred_scores:\n",
    "    sgd_X_train_preds.append(i.argmax())"
   ]
  },
  {
   "cell_type": "code",
   "execution_count": 73,
   "metadata": {
    "scrolled": true
   },
   "outputs": [],
   "source": [
    "sgd_matrix = confusion_matrix(y_train, sgd_X_train_preds)"
   ]
  },
  {
   "cell_type": "code",
   "execution_count": 74,
   "metadata": {},
   "outputs": [
    {
     "data": {
      "text/plain": [
       "array([[140,   0,   0,   0,   0,   0,   0,   0,   1,   0],\n",
       "       [  0, 142,   0,   2,   1,   0,   1,   0,   5,   2],\n",
       "       [  0,   1, 137,   3,   0,   0,   0,   0,   2,   0],\n",
       "       [  0,   0,   0, 143,   0,   1,   0,   1,   6,   2],\n",
       "       [  1,   1,   0,   0, 132,   0,   1,   1,   3,   1],\n",
       "       [  0,   1,   0,   0,   0, 132,   0,   0,   2,   4],\n",
       "       [  0,   1,   0,   0,   0,   1, 135,   0,   1,   0],\n",
       "       [  0,   0,   0,   0,   1,   0,   0, 129,   4,   1],\n",
       "       [  0,   6,   0,   1,   0,   1,   0,   0, 138,   1],\n",
       "       [  0,   2,   0,   3,   1,   2,   0,   1,   5, 134]])"
      ]
     },
     "execution_count": 74,
     "metadata": {},
     "output_type": "execute_result"
    }
   ],
   "source": [
    "sgd_matrix"
   ]
  },
  {
   "cell_type": "code",
   "execution_count": 75,
   "metadata": {},
   "outputs": [
    {
     "data": {
      "image/png": "[encoded data removed]",
      "text/plain": [
       "<Figure size 288x288 with 1 Axes>"
      ]
     },
     "metadata": {
      "needs_background": "light"
     },
     "output_type": "display_data"
    }
   ],
   "source": [
    "plt.matshow(sgd_matrix, cmap=plt.cm.gray)\n",
    "plt.xlabel('Predictions')\n",
    "plt.ylabel('Actual')\n",
    "plt.show()"
   ]
  },
  {
   "cell_type": "code",
   "execution_count": 76,
   "metadata": {},
   "outputs": [
    {
     "name": "stdout",
     "output_type": "stream",
     "text": [
      "Precision: 0.9477007741585556\n",
      "Recall: 0.9478079331941545\n",
      "f1: 0.9472365345893635\n"
     ]
    }
   ],
   "source": [
    "conf_matrix_info(sgd_X_train_preds, y_train)"
   ]
  },
  {
   "cell_type": "markdown",
   "metadata": {},
   "source": [
    "# Random Forest Classifier"
   ]
  },
  {
   "cell_type": "code",
   "execution_count": 77,
   "metadata": {},
   "outputs": [],
   "source": [
    "rfc = RandomForestClassifier(random_state=42)"
   ]
  },
  {
   "cell_type": "code",
   "execution_count": 78,
   "metadata": {},
   "outputs": [],
   "source": [
    "rfc_scores = cross_val_score(rfc, X_train, y_train, cv=5, scoring='accuracy')"
   ]
  },
  {
   "cell_type": "code",
   "execution_count": 79,
   "metadata": {},
   "outputs": [
    {
     "name": "stdout",
     "output_type": "stream",
     "text": [
      "rfc_scores: [0.94501718 0.94827586 0.94463668 0.94014085 0.92226148]\n",
      "average: 0.9400664103139208\n"
     ]
    }
   ],
   "source": [
    "print(f'rfc_scores: {rfc_scores}')\n",
    "print(f'average: {rfc_scores.mean()}')"
   ]
  },
  {
   "cell_type": "code",
   "execution_count": 80,
   "metadata": {},
   "outputs": [],
   "source": [
    "rfc_X_train_pred = cross_val_predict(rfc, X_train, y_train, cv=5)"
   ]
  },
  {
   "cell_type": "code",
   "execution_count": 81,
   "metadata": {},
   "outputs": [
    {
     "data": {
      "text/plain": [
       "array([1, 2, 2, ..., 9, 0, 3])"
      ]
     },
     "execution_count": 81,
     "metadata": {},
     "output_type": "execute_result"
    }
   ],
   "source": [
    "rfc_X_train_pred"
   ]
  },
  {
   "cell_type": "code",
   "execution_count": 82,
   "metadata": {},
   "outputs": [],
   "source": [
    "rfc_matrix = confusion_matrix(rfc_X_train_pred, y_train)"
   ]
  },
  {
   "cell_type": "code",
   "execution_count": 83,
   "metadata": {},
   "outputs": [
    {
     "data": {
      "text/plain": [
       "array([[141,   0,   1,   0,   1,   0,   2,   0,   0,   0],\n",
       "       [  0, 152,   3,   0,   1,   1,   0,   0,  13,   3],\n",
       "       [  0,   0, 136,   3,   0,   0,   1,   0,   2,   0],\n",
       "       [  0,   0,   1, 142,   0,   1,   0,   0,   4,   2],\n",
       "       [  0,   0,   0,   0, 132,   2,   0,   4,   0,   2],\n",
       "       [  0,   1,   0,   1,   0, 131,   0,   0,   2,   3],\n",
       "       [  0,   0,   0,   0,   1,   0, 134,   0,   1,   0],\n",
       "       [  0,   0,   1,   0,   3,   0,   0, 129,   0,   3],\n",
       "       [  0,   0,   1,   2,   1,   2,   1,   1, 124,   5],\n",
       "       [  0,   0,   0,   5,   1,   2,   0,   1,   1, 130]])"
      ]
     },
     "execution_count": 83,
     "metadata": {},
     "output_type": "execute_result"
    }
   ],
   "source": [
    "rfc_matrix"
   ]
  },
  {
   "cell_type": "code",
   "execution_count": 84,
   "metadata": {},
   "outputs": [
    {
     "data": {
      "image/png": "[encoded data removed]",
      "text/plain": [
       "<Figure size 288x288 with 1 Axes>"
      ]
     },
     "metadata": {
      "needs_background": "light"
     },
     "output_type": "display_data"
    }
   ],
   "source": [
    "plt.matshow(rfc_matrix, cmap=plt.cm.gray)\n",
    "plt.show()"
   ]
  },
  {
   "cell_type": "code",
   "execution_count": 85,
   "metadata": {
    "scrolled": false
   },
   "outputs": [
    {
     "name": "stdout",
     "output_type": "stream",
     "text": [
      "Precision: 0.9420616546412028\n",
      "Recall: 0.9401530967292971\n",
      "f1: 0.9404744104788982\n"
     ]
    }
   ],
   "source": [
    "conf_matrix_info(rfc_X_train_pred, y_train)"
   ]
  }
 ],
 "metadata": {
  "kernelspec": {
   "display_name": "Python 3.7.3 64-bit",
   "language": "python",
   "name": "python37364bitfa9893814aec4ef7b4684d6771155a64"
  },
  "language_info": {
   "codemirror_mode": {
    "name": "ipython",
    "version": 3
   },
   "file_extension": ".py",
   "mimetype": "text/x-python",
   "name": "python",
   "nbconvert_exporter": "python",
   "pygments_lexer": "ipython3",
   "version": "3.7.3"
  }
 },
 "nbformat": 4,
 "nbformat_minor": 2
}
