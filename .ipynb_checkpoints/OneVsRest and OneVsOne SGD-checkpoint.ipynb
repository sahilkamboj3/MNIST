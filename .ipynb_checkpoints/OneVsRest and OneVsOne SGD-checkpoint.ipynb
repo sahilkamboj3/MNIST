{
 "cells": [
  {
   "cell_type": "code",
   "execution_count": 25,
   "metadata": {},
   "outputs": [],
   "source": [
    "import matplotlib.pyplot as plt\n",
    "from matplotlib import style\n",
    "%matplotlib inline\n",
    "import seaborn as sns\n",
    "import numpy as np\n",
    "\n",
    "from sklearn import datasets\n",
    "from sklearn.model_selection import train_test_split, cross_val_score, cross_val_predict\n",
    "from sklearn.linear_model import SGDClassifier\n",
    "from sklearn.ensemble import RandomForestClassifier\n",
    "from sklearn.multiclass import OneVsRestClassifier, OneVsOneClassifier\n",
    "from sklearn.metrics import confusion_matrix, recall_score, precision_score, f1_score\n",
    "from sklearn.preprocessing import StandardScaler\n",
    "\n",
    "mnist = datasets.load_digits()"
   ]
  },
  {
   "cell_type": "code",
   "execution_count": 26,
   "metadata": {},
   "outputs": [],
   "source": [
    "X = mnist['data']\n",
    "y = mnist['target']"
   ]
  },
  {
   "cell_type": "markdown",
   "metadata": {},
   "source": [
    "# Data Splitting"
   ]
  },
  {
   "cell_type": "code",
   "execution_count": 27,
   "metadata": {},
   "outputs": [],
   "source": [
    "train_size = 0.8\n",
    "\n",
    "X_train, X_test, y_train, y_test = train_test_split(X, y, test_size=0.2)"
   ]
  },
  {
   "cell_type": "code",
   "execution_count": 28,
   "metadata": {},
   "outputs": [],
   "source": [
    "shuffle_index = np.random.permutation(len(X_train))\n",
    "X_train, y_train = X_train[shuffle_index], y_train[shuffle_index]"
   ]
  },
  {
   "cell_type": "code",
   "execution_count": 29,
   "metadata": {
    "scrolled": true
   },
   "outputs": [
    {
     "data": {
      "text/plain": [
       "array([[ 0.        , -0.33742955, -0.04373842, ..., -0.64272461,\n",
       "        -0.50287153, -0.20352724],\n",
       "       [ 0.        , -0.33742955, -0.25185797, ...,  1.38492691,\n",
       "         0.45203615, -0.20352724],\n",
       "       [ 0.        , -0.33742955, -1.0843362 , ...,  0.03315923,\n",
       "        -0.50287153, -0.20352724],\n",
       "       ...,\n",
       "       [ 0.        , -0.33742955, -0.45997753, ...,  1.21595595,\n",
       "        -0.50287153, -0.20352724],\n",
       "       [ 0.        ,  2.95365371,  2.03745715, ...,  0.87801403,\n",
       "         1.64567076, -0.20352724],\n",
       "       [ 0.        ,  0.7595982 ,  1.41309848, ...,  0.87801403,\n",
       "        -0.26414461, -0.20352724]])"
      ]
     },
     "execution_count": 29,
     "metadata": {},
     "output_type": "execute_result"
    }
   ],
   "source": [
    "scaler = StandardScaler()\n",
    "X_train = scaler.fit_transform(X_train.astype(np.float64))\n",
    "X_train"
   ]
  },
  {
   "cell_type": "markdown",
   "metadata": {},
   "source": [
    "# Helper Functions"
   ]
  },
  {
   "cell_type": "code",
   "execution_count": 30,
   "metadata": {},
   "outputs": [],
   "source": [
    "def conf_matrix_info(X_train_preds, y_scores):\n",
    "    precision = precision_score(X_train_preds, y_scores, average='weighted')\n",
    "    recall = recall_score(X_train_preds, y_scores, average='weighted')\n",
    "    f1 = f1_score(X_train_preds, y_scores, average='weighted')\n",
    "    print(f'Precision: {precision}')\n",
    "    print(f'Recall: {recall}')\n",
    "    print(f'f1: {f1}')"
   ]
  },
  {
   "cell_type": "markdown",
   "metadata": {},
   "source": [
    "# OVR with SGD"
   ]
  },
  {
   "cell_type": "code",
   "execution_count": 31,
   "metadata": {},
   "outputs": [],
   "source": [
    "sgd = SGDClassifier(random_state=42)\n",
    "sgd_ovr_model = OneVsRestClassifier(sgd)"
   ]
  },
  {
   "cell_type": "code",
   "execution_count": 32,
   "metadata": {},
   "outputs": [
    {
     "name": "stdout",
     "output_type": "stream",
     "text": [
      "[0.94501718 0.94501718 0.94463668 0.9471831  0.94326241]\n",
      "0.9450233104801855\n"
     ]
    }
   ],
   "source": [
    "ovr_sgd_scores = cross_val_score(sgd_ovr_model, X_train, y_train, cv=5, scoring='accuracy')\n",
    "print(ovr_sgd_scores)\n",
    "print(ovr_sgd_scores.mean())"
   ]
  },
  {
   "cell_type": "code",
   "execution_count": 33,
   "metadata": {},
   "outputs": [
    {
     "data": {
      "text/plain": [
       "array([[-389.4931161 ,  -57.28847936, -104.91869051, ..., -186.30078853,\n",
       "           4.79445109, -299.56202478],\n",
       "       [-346.84795886,  -31.10082722,    9.18532973, ..., -308.28599304,\n",
       "          -1.03664945, -138.05749405],\n",
       "       [-378.03754898,   33.2073403 ,  -65.93433709, ..., -155.87524808,\n",
       "         -25.94313663, -393.97025048],\n",
       "       ...,\n",
       "       [  76.62957609, -429.71542322, -312.42224172, ..., -345.4223084 ,\n",
       "        -124.96805396, -115.08146875],\n",
       "       [-530.22627819, -243.84316839,  306.81800751, ..., -372.38480036,\n",
       "        -122.95862405, -346.04632665],\n",
       "       [-374.66497065, -386.93758937, -167.74396264, ..., -376.61300331,\n",
       "         -79.78183258,  -33.45000989]])"
      ]
     },
     "execution_count": 33,
     "metadata": {},
     "output_type": "execute_result"
    }
   ],
   "source": [
    "ovr_sgd_predict_scores = cross_val_predict(sgd_ovr_model, X_train, y_train, cv=5, method='decision_function')\n",
    "ovr_sgd_predict_scores"
   ]
  },
  {
   "cell_type": "code",
   "execution_count": 34,
   "metadata": {},
   "outputs": [],
   "source": [
    "sgd_X_train_ovr_preds = []\n",
    "\n",
    "for i in ovr_sgd_predict_scores:\n",
    "    sgd_X_train_ovr_preds.append(i.argmax())"
   ]
  },
  {
   "cell_type": "code",
   "execution_count": 35,
   "metadata": {},
   "outputs": [],
   "source": [
    "sgd_ovr_matrix = confusion_matrix(y_train, sgd_X_train_ovr_preds)"
   ]
  },
  {
   "cell_type": "code",
   "execution_count": 36,
   "metadata": {
    "scrolled": false
   },
   "outputs": [
    {
     "data": {
      "text/plain": [
       "array([[141,   0,   0,   0,   0,   0,   2,   0,   1,   0],\n",
       "       [  0, 129,   1,   1,   1,   0,   1,   0,   8,   4],\n",
       "       [  0,   1, 133,   1,   0,   0,   0,   0,   3,   0],\n",
       "       [  0,   0,   1, 130,   0,   2,   0,   2,   7,   1],\n",
       "       [  1,   2,   0,   0, 150,   0,   0,   1,   2,   2],\n",
       "       [  0,   1,   0,   1,   0, 135,   0,   0,   3,   4],\n",
       "       [  0,   1,   0,   0,   0,   0, 141,   0,   1,   0],\n",
       "       [  0,   0,   0,   0,   1,   0,   0, 133,   2,   1],\n",
       "       [  0,   6,   0,   0,   0,   1,   0,   0, 136,   0],\n",
       "       [  0,   1,   0,   3,   0,   1,   0,   1,   6, 130]])"
      ]
     },
     "execution_count": 36,
     "metadata": {},
     "output_type": "execute_result"
    }
   ],
   "source": [
    "sgd_ovr_matrix"
   ]
  },
  {
   "cell_type": "code",
   "execution_count": 37,
   "metadata": {},
   "outputs": [
    {
     "data": {
      "image/png": "[encoded data removed]",
      "text/plain": [
       "<Figure size 288x288 with 1 Axes>"
      ]
     },
     "metadata": {
      "needs_background": "light"
     },
     "output_type": "display_data"
    }
   ],
   "source": [
    "plt.matshow(sgd_ovr_matrix, cmap=plt.cm.gray)\n",
    "plt.xlabel('Predictions')\n",
    "plt.ylabel('Actual')\n",
    "plt.show()"
   ]
  },
  {
   "cell_type": "code",
   "execution_count": 38,
   "metadata": {
    "scrolled": true
   },
   "outputs": [
    {
     "name": "stdout",
     "output_type": "stream",
     "text": [
      "Precision: 0.9454124491629717\n",
      "Recall: 0.9450243562978428\n",
      "f1: 0.9443443567972297\n"
     ]
    }
   ],
   "source": [
    "conf_matrix_info(sgd_X_train_ovr_preds, y_train)"
   ]
  },
  {
   "cell_type": "markdown",
   "metadata": {},
   "source": [
    "# OVO with SGD"
   ]
  },
  {
   "cell_type": "code",
   "execution_count": 39,
   "metadata": {},
   "outputs": [],
   "source": [
    "sgd_ovo_model = OneVsOneClassifier(sgd)"
   ]
  },
  {
   "cell_type": "markdown",
   "metadata": {},
   "source": [
    "### Cross Val Scores"
   ]
  },
  {
   "cell_type": "code",
   "execution_count": 40,
   "metadata": {},
   "outputs": [
    {
     "name": "stdout",
     "output_type": "stream",
     "text": [
      "[0.96563574 0.95532646 0.95847751 0.95070423 0.97163121]\n",
      "0.9603550277978211\n"
     ]
    }
   ],
   "source": [
    "scores = cross_val_score(sgd_ovo_model, X_train, y_train, cv=5, scoring='accuracy')\n",
    "print(scores)\n",
    "print(scores.mean())"
   ]
  },
  {
   "cell_type": "markdown",
   "metadata": {},
   "source": [
    "### Cross Val Predict"
   ]
  },
  {
   "cell_type": "code",
   "execution_count": 41,
   "metadata": {},
   "outputs": [],
   "source": [
    "ovo_sgd_scores = cross_val_predict(sgd_ovo_model, X_train, y_train, cv=5, method='decision_function')"
   ]
  },
  {
   "cell_type": "code",
   "execution_count": 42,
   "metadata": {},
   "outputs": [],
   "source": [
    "ovo_sgd_pred = []\n",
    "\n",
    "for i in ovo_sgd_scores:\n",
    "    ovo_sgd_pred.append(i.argmax())"
   ]
  },
  {
   "cell_type": "code",
   "execution_count": 43,
   "metadata": {
    "scrolled": true
   },
   "outputs": [
    {
     "data": {
      "text/plain": [
       "array([[141,   0,   0,   0,   1,   0,   2,   0,   0,   0],\n",
       "       [  0, 139,   1,   0,   1,   0,   0,   0,   1,   3],\n",
       "       [  0,   0, 135,   0,   0,   0,   0,   0,   3,   0],\n",
       "       [  0,   0,   2, 137,   0,   1,   0,   0,   3,   0],\n",
       "       [  1,   1,   0,   0, 151,   0,   0,   1,   1,   3],\n",
       "       [  1,   0,   1,   1,   0, 138,   1,   1,   0,   1],\n",
       "       [  0,   1,   0,   0,   0,   0, 140,   0,   2,   0],\n",
       "       [  0,   0,   1,   0,   0,   0,   0, 134,   1,   1],\n",
       "       [  0,   6,   1,   0,   1,   2,   1,   1, 129,   2],\n",
       "       [  0,   1,   0,   0,   0,   1,   0,   1,   3, 136]])"
      ]
     },
     "execution_count": 43,
     "metadata": {},
     "output_type": "execute_result"
    }
   ],
   "source": [
    "ovo_sgd_matrix = confusion_matrix(y_train, ovo_sgd_pred)\n",
    "ovo_sgd_matrix"
   ]
  },
  {
   "cell_type": "code",
   "execution_count": 44,
   "metadata": {},
   "outputs": [
    {
     "data": {
      "image/png": "[encoded data removed]",
      "text/plain": [
       "<Figure size 288x288 with 1 Axes>"
      ]
     },
     "metadata": {
      "needs_background": "light"
     },
     "output_type": "display_data"
    }
   ],
   "source": [
    "plt.matshow(sgd_ovr_matrix, cmap=plt.cm.gray)\n",
    "plt.xlabel('Predictions')\n",
    "plt.ylabel('Actual')\n",
    "plt.show()"
   ]
  },
  {
   "cell_type": "code",
   "execution_count": 45,
   "metadata": {},
   "outputs": [
    {
     "name": "stdout",
     "output_type": "stream",
     "text": [
      "Precision: 0.9603966080920573\n",
      "Recall: 0.9603340292275574\n",
      "f1: 0.9602705939938031\n"
     ]
    }
   ],
   "source": [
    "conf_matrix_info(ovo_sgd_pred, y_train)"
   ]
  }
 ],
 "metadata": {
  "kernelspec": {
   "display_name": "Python 3.7.3 64-bit",
   "language": "python",
   "name": "python37364bitfa9893814aec4ef7b4684d6771155a64"
  },
  "language_info": {
   "codemirror_mode": {
    "name": "ipython",
    "version": 3
   },
   "file_extension": ".py",
   "mimetype": "text/x-python",
   "name": "python",
   "nbconvert_exporter": "python",
   "pygments_lexer": "ipython3",
   "version": "3.7.3"
  }
 },
 "nbformat": 4,
 "nbformat_minor": 2
}
