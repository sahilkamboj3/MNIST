{
 "cells": [
  {
   "cell_type": "code",
   "execution_count": 15,
   "metadata": {},
   "outputs": [],
   "source": [
    "import matplotlib.pyplot as plt\n",
    "from matplotlib import style\n",
    "%matplotlib inline\n",
    "import seaborn as sns\n",
    "import numpy as np\n",
    "\n",
    "from sklearn import datasets\n",
    "from sklearn.model_selection import train_test_split, cross_val_score, cross_val_predict\n",
    "from sklearn.linear_model import SGDClassifier\n",
    "from sklearn.ensemble import RandomForestClassifier\n",
    "from sklearn.multiclass import OneVsRestClassifier, OneVsOneClassifier\n",
    "from sklearn.metrics import confusion_matrix, recall_score, precision_score, f1_score, precision_recall_curve, roc_curve, roc_auc_score\n",
    "from sklearn.preprocessing import StandardScaler\n",
    "\n",
    "mnist = datasets.load_digits()"
   ]
  },
  {
   "cell_type": "code",
   "execution_count": 16,
   "metadata": {},
   "outputs": [],
   "source": [
    "X = mnist['data']\n",
    "y = mnist['target']"
   ]
  },
  {
   "cell_type": "markdown",
   "metadata": {},
   "source": [
    "# Data Splitting"
   ]
  },
  {
   "cell_type": "code",
   "execution_count": 17,
   "metadata": {},
   "outputs": [],
   "source": [
    "train_size = 0.8\n",
    "\n",
    "X_train, X_test, y_train, y_test = train_test_split(X, y, test_size=0.2)"
   ]
  },
  {
   "cell_type": "code",
   "execution_count": null,
   "metadata": {},
   "outputs": [],
   "source": [
    "shuffle_index = np.random.permutation(len(X_train))\n",
    "X_train, y_train = X_train[shuffle_index], y_train[shuffle_index]"
   ]
  },
  {
   "cell_type": "code",
   "execution_count": 18,
   "metadata": {
    "scrolled": true
   },
   "outputs": [
    {
     "data": {
      "text/plain": [
       "array([[ 0.        , -0.33615936, -0.02424793, ..., -1.13665944,\n",
       "        -0.50807772, -0.19886926],\n",
       "       [ 0.        , -0.33615936, -1.08657359, ..., -1.13665944,\n",
       "        -0.50807772, -0.19886926],\n",
       "       [ 0.        , -0.33615936, -1.08657359, ..., -1.13665944,\n",
       "        -0.50807772, -0.19886926],\n",
       "       ...,\n",
       "       [ 0.        , -0.33615936, -1.08657359, ..., -1.13665944,\n",
       "        -0.50807772, -0.19886926],\n",
       "       [ 0.        , -0.33615936, -0.87410846, ...,  1.55396898,\n",
       "         2.40458592, -0.19886926],\n",
       "       [ 0.        , -0.33615936, -0.66164333, ...,  1.55396898,\n",
       "         1.19097607, -0.19886926]])"
      ]
     },
     "execution_count": 18,
     "metadata": {},
     "output_type": "execute_result"
    }
   ],
   "source": [
    "scaler = StandardScaler()\n",
    "X_train = scaler.fit_transform(X_train.astype(np.float64))\n",
    "X_train"
   ]
  },
  {
   "cell_type": "markdown",
   "metadata": {},
   "source": [
    "# Helper Functions"
   ]
  },
  {
   "cell_type": "code",
   "execution_count": 43,
   "metadata": {},
   "outputs": [],
   "source": [
    "def conf_matrix_info(X_train_preds, y_scores):\n",
    "    precision = precision_score(X_train_preds, y_scores, average='weighted')\n",
    "    recall = recall_score(X_train_preds, y_scores, average='weighted')\n",
    "    f1 = f1_score(X_train_preds, y_scores, average='weighted')\n",
    "    print(f'Precision: {precision}')\n",
    "    print(f'Recall: {recall}')\n",
    "    print(f'f1: {f1}')"
   ]
  },
  {
   "cell_type": "markdown",
   "metadata": {},
   "source": [
    "# OVR with SGD"
   ]
  },
  {
   "cell_type": "code",
   "execution_count": 23,
   "metadata": {},
   "outputs": [],
   "source": [
    "sgd = SGDClassifier(random_state=42)\n",
    "sgd_ovr_model = OneVsRestClassifier(sgd)"
   ]
  },
  {
   "cell_type": "code",
   "execution_count": 37,
   "metadata": {},
   "outputs": [
    {
     "name": "stdout",
     "output_type": "stream",
     "text": [
      "[0.95172414 0.96206897 0.96167247 0.96503497 0.96830986]\n",
      "0.9617620803011533\n"
     ]
    }
   ],
   "source": [
    "ovr_sgd_scores = cross_val_score(sgd_ovr_model, X_train, y_train, cv=5, scoring='accuracy')\n",
    "print(scores)\n",
    "print(scores.mean())"
   ]
  },
  {
   "cell_type": "code",
   "execution_count": 38,
   "metadata": {},
   "outputs": [
    {
     "data": {
      "text/plain": [
       "array([[ -352.99462279,  -264.70130538,  -212.46486564, ...,\n",
       "           78.34539703,  -101.18918145,   -27.17703894],\n",
       "       [ -217.39321166,   -19.54307044,  -563.81280198, ...,\n",
       "         -225.96757808,  -106.92918522,   102.38929855],\n",
       "       [ -112.63908784,  -347.3830702 ,  -531.094508  , ...,\n",
       "         -173.8768756 ,  -242.32386721,  -235.00067498],\n",
       "       ...,\n",
       "       [ -807.82721992,  -574.05436542, -1259.90691689, ...,\n",
       "         -382.01871178,  -458.91707729,  -267.48432742],\n",
       "       [ -348.52442759,  -327.70897092,   -72.75378832, ...,\n",
       "         -344.75021567,  -103.75743129,  -150.32973619],\n",
       "       [ -179.44351342,  -373.10230357,  -378.58487815, ...,\n",
       "         -503.53466377,  -102.98419543,  -315.6575805 ]])"
      ]
     },
     "execution_count": 38,
     "metadata": {},
     "output_type": "execute_result"
    }
   ],
   "source": [
    "ovr_sgd_predict_scores = cross_val_predict(sgd_ovr_model, X_train, y_train, cv=5, method='decision_function')\n",
    "ovr_sgd_predict_scores"
   ]
  },
  {
   "cell_type": "code",
   "execution_count": 39,
   "metadata": {},
   "outputs": [],
   "source": [
    "sgd_X_train_ovr_preds = []\n",
    "\n",
    "for i in ovr_sgd_predict_scores:\n",
    "    sgd_X_train_ovr_preds.append(i.argmax())"
   ]
  },
  {
   "cell_type": "code",
   "execution_count": 40,
   "metadata": {},
   "outputs": [],
   "source": [
    "sgd_ovr_matrix = confusion_matrix(y_train, sgd_X_train_ovr_preds)"
   ]
  },
  {
   "cell_type": "code",
   "execution_count": 41,
   "metadata": {
    "scrolled": false
   },
   "outputs": [
    {
     "data": {
      "text/plain": [
       "array([[141,   0,   1,   0,   0,   1,   1,   0,   1,   0],\n",
       "       [  0, 138,   1,   0,   0,   0,   0,   0,   9,   1],\n",
       "       [  0,   0, 137,   1,   0,   0,   0,   0,   4,   0],\n",
       "       [  0,   0,   0, 139,   0,   1,   0,   3,   4,   0],\n",
       "       [  0,   1,   0,   0, 145,   0,   0,   2,   1,   1],\n",
       "       [  0,   1,   1,   0,   0, 131,   0,   0,   2,   4],\n",
       "       [  0,   1,   0,   0,   0,   1, 140,   0,   0,   0],\n",
       "       [  0,   0,   0,   2,   0,   0,   0, 141,   1,   1],\n",
       "       [  0,   4,   0,   0,   0,   3,   0,   0, 123,   0],\n",
       "       [  0,   3,   0,   2,   0,   1,   0,   1,   4, 137]])"
      ]
     },
     "execution_count": 41,
     "metadata": {},
     "output_type": "execute_result"
    }
   ],
   "source": [
    "sgd_ovr_matrix"
   ]
  },
  {
   "cell_type": "code",
   "execution_count": 46,
   "metadata": {},
   "outputs": [
    {
     "data": {
      "image/png": "[encoded data removed]",
      "text/plain": [
       "<Figure size 288x288 with 1 Axes>"
      ]
     },
     "metadata": {
      "needs_background": "light"
     },
     "output_type": "display_data"
    }
   ],
   "source": [
    "plt.matshow(sgd_ovr_matrix, cmap=plt.cm.gray)\n",
    "plt.xlabel('Predictions')\n",
    "plt.ylabel('Actual')\n",
    "plt.show()"
   ]
  },
  {
   "cell_type": "code",
   "execution_count": 47,
   "metadata": {
    "scrolled": true
   },
   "outputs": [
    {
     "name": "stdout",
     "output_type": "stream",
     "text": [
      "Precision: 0.954680035673797\n",
      "Recall: 0.9547668754349339\n",
      "f1: 0.9542093520499856\n"
     ]
    }
   ],
   "source": [
    "conf_matrix_info(sgd_X_train_ovr_preds, y_train)"
   ]
  },
  {
   "cell_type": "markdown",
   "metadata": {},
   "source": [
    "# OVO with SGD"
   ]
  },
  {
   "cell_type": "code",
   "execution_count": 25,
   "metadata": {},
   "outputs": [],
   "source": [
    "sgd_ovo_model = OneVsOneClassifier(sgd)"
   ]
  },
  {
   "cell_type": "markdown",
   "metadata": {},
   "source": [
    "### Cross Val Scores"
   ]
  },
  {
   "cell_type": "code",
   "execution_count": 28,
   "metadata": {},
   "outputs": [
    {
     "name": "stdout",
     "output_type": "stream",
     "text": [
      "[0.95172414 0.96206897 0.96167247 0.96503497 0.96830986]\n",
      "0.9617620803011533\n"
     ]
    }
   ],
   "source": [
    "scores = cross_val_score(sgd_ovo_model, X_train, y_train, cv=5, scoring='accuracy')\n",
    "print(scores)\n",
    "print(scores.mean())"
   ]
  },
  {
   "cell_type": "markdown",
   "metadata": {},
   "source": [
    "### Cross Val Predict"
   ]
  },
  {
   "cell_type": "code",
   "execution_count": 48,
   "metadata": {},
   "outputs": [],
   "source": [
    "ovo_sgd_scores = cross_val_predict(sgd_ovo_model, X_train, y_train, cv=5, method='decision_function')"
   ]
  },
  {
   "cell_type": "code",
   "execution_count": 49,
   "metadata": {},
   "outputs": [],
   "source": [
    "ovo_sgd_pred = []\n",
    "\n",
    "for i in ovo_sgd_scores:\n",
    "    ovo_sgd_pred.append(i.argmax())"
   ]
  },
  {
   "cell_type": "code",
   "execution_count": 51,
   "metadata": {
    "scrolled": true
   },
   "outputs": [
    {
     "data": {
      "text/plain": [
       "array([[144,   0,   0,   0,   1,   0,   0,   0,   0,   0],\n",
       "       [  0, 145,   0,   0,   0,   0,   0,   0,   4,   0],\n",
       "       [  0,   1, 137,   0,   0,   0,   0,   1,   3,   0],\n",
       "       [  0,   0,   2, 140,   0,   1,   0,   0,   2,   2],\n",
       "       [  0,   0,   0,   0, 147,   0,   0,   2,   1,   0],\n",
       "       [  0,   1,   0,   1,   1, 132,   1,   0,   0,   3],\n",
       "       [  0,   1,   0,   0,   0,   1, 139,   0,   1,   0],\n",
       "       [  0,   0,   0,   0,   0,   0,   0, 143,   1,   1],\n",
       "       [  0,   5,   1,   3,   1,   3,   0,   1, 116,   0],\n",
       "       [  0,   1,   0,   1,   0,   3,   0,   2,   2, 139]])"
      ]
     },
     "execution_count": 51,
     "metadata": {},
     "output_type": "execute_result"
    }
   ],
   "source": [
    "ovo_sgd_matrix = confusion_matrix(y_train, ovo_sgd_pred)\n",
    "ovo_sgd_matrix"
   ]
  },
  {
   "cell_type": "code",
   "execution_count": 53,
   "metadata": {},
   "outputs": [
    {
     "data": {
      "image/png": "[encoded data removed]",
      "text/plain": [
       "<Figure size 288x288 with 1 Axes>"
      ]
     },
     "metadata": {
      "needs_background": "light"
     },
     "output_type": "display_data"
    }
   ],
   "source": [
    "plt.matshow(sgd_ovr_matrix, cmap=plt.cm.gray)\n",
    "plt.xlabel('Predictions')\n",
    "plt.ylabel('Actual')\n",
    "plt.show()"
   ]
  },
  {
   "cell_type": "code",
   "execution_count": 52,
   "metadata": {},
   "outputs": [
    {
     "name": "stdout",
     "output_type": "stream",
     "text": [
      "Precision: 0.9618354090617884\n",
      "Recall: 0.9617258176757133\n",
      "f1: 0.9617074507859221\n"
     ]
    }
   ],
   "source": [
    "conf_matrix_info(ovo_sgd_pred, y_train)"
   ]
  },
  {
   "cell_type": "code",
   "execution_count": null,
   "metadata": {},
   "outputs": [],
   "source": []
  }
 ],
 "metadata": {
  "kernelspec": {
   "display_name": "Python 3.7.3 64-bit",
   "language": "python",
   "name": "python37364bitfa9893814aec4ef7b4684d6771155a64"
  },
  "language_info": {
   "codemirror_mode": {
    "name": "ipython",
    "version": 3
   },
   "file_extension": ".py",
   "mimetype": "text/x-python",
   "name": "python",
   "nbconvert_exporter": "python",
   "pygments_lexer": "ipython3",
   "version": "3.7.3"
  }
 },
 "nbformat": 4,
 "nbformat_minor": 2
}
