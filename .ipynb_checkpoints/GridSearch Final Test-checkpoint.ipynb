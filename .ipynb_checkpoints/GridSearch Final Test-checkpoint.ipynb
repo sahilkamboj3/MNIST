{
 "cells": [
  {
   "cell_type": "code",
   "execution_count": 61,
   "metadata": {},
   "outputs": [],
   "source": [
    "import numpy as np\n",
    "import matplotlib.pyplot as plt\n",
    "from matplotlib import style\n",
    "%matplotlib inline\n",
    "import warnings\n",
    "\n",
    "from sklearn import svm\n",
    "from sklearn import datasets\n",
    "from sklearn.model_selection import train_test_split, GridSearchCV\n",
    "from sklearn.preprocessing import StandardScaler\n",
    "\n",
    "warnings.filterwarnings('ignore')\n",
    "mnist = datasets.load_digits()"
   ]
  },
  {
   "cell_type": "code",
   "execution_count": 62,
   "metadata": {},
   "outputs": [],
   "source": [
    "X = mnist['data']\n",
    "y = mnist['target']"
   ]
  },
  {
   "cell_type": "markdown",
   "metadata": {},
   "source": [
    "# Data Splitting"
   ]
  },
  {
   "cell_type": "code",
   "execution_count": 63,
   "metadata": {},
   "outputs": [
    {
     "data": {
      "text/plain": [
       "array([[ 0.        ,  1.89304218,  1.46344076, ..., -1.14020226,\n",
       "        -0.50841639, -0.19912413],\n",
       "       [ 0.        ,  0.78180786,  0.18878815, ...,  0.20791717,\n",
       "        -0.50841639, -0.19912413],\n",
       "       [ 0.        , -0.32942646, -0.66098027, ...,  0.03940224,\n",
       "        -0.50841639, -0.19912413],\n",
       "       ...,\n",
       "       [ 0.        , -0.32942646, -0.66098027, ...,  1.38752166,\n",
       "         0.69917758, -0.19912413],\n",
       "       [ 0.        , -0.32942646, -0.44853816, ..., -0.63465747,\n",
       "        -0.50841639, -0.19912413],\n",
       "       [ 0.        , -0.32942646,  1.46344076, ...,  0.37643209,\n",
       "        -0.50841639, -0.19912413]])"
      ]
     },
     "execution_count": 63,
     "metadata": {},
     "output_type": "execute_result"
    }
   ],
   "source": [
    "train_size = 0.8\n",
    "\n",
    "X_train, X_test, y_train, y_test = train_test_split(X, y, test_size=0.2)\n",
    "\n",
    "shuffle_index = np.random.permutation(len(X_train))\n",
    "X_train, y_train = X_train[shuffle_index], y_train[shuffle_index]\n",
    "\n",
    "scaler = StandardScaler()\n",
    "X_train = scaler.fit_transform(X_train.astype(np.float64))\n",
    "X_train"
   ]
  },
  {
   "cell_type": "markdown",
   "metadata": {},
   "source": [
    "# Grid Search - Precision Scoring"
   ]
  },
  {
   "cell_type": "code",
   "execution_count": 64,
   "metadata": {},
   "outputs": [],
   "source": [
    "svc_prec = svm.SVC(kernel='linear', gamma='auto', C=2, random_state=42)"
   ]
  },
  {
   "cell_type": "code",
   "execution_count": 65,
   "metadata": {},
   "outputs": [],
   "source": [
    "# Remove 'precomputed' from your parameter space.\n",
    "# kernel='precomputed'can only be used when passing a (n_samples, n_samples) data matrix that represents pairwise similarities for the samples instead of the traditional (n_samples, n_features) rectangular data matrix.\n",
    "\n",
    "param_grid = [\n",
    "    {\n",
    "        'kernel': ['linear', 'poly', 'rbf', 'sigmoid'], \n",
    "        'gamma': [1e-3, 1e-4],\n",
    "        'C': [1, 10, 100, 1000, 5000]\n",
    "    }\n",
    "]"
   ]
  },
  {
   "cell_type": "code",
   "execution_count": 66,
   "metadata": {},
   "outputs": [
    {
     "data": {
      "text/plain": [
       "GridSearchCV(cv=5, error_score='raise-deprecating',\n",
       "             estimator=SVC(C=2, cache_size=200, class_weight=None, coef0=0.0,\n",
       "                           decision_function_shape='ovr', degree=3,\n",
       "                           gamma='auto', kernel='linear', max_iter=-1,\n",
       "                           probability=False, random_state=42, shrinking=True,\n",
       "                           tol=0.001, verbose=False),\n",
       "             iid='warn', n_jobs=None,\n",
       "             param_grid=[{'C': [1, 10, 100, 1000, 5000],\n",
       "                          'gamma': [0.001, 0.0001],\n",
       "                          'kernel': ['linear', 'poly', 'rbf', 'sigmoid']}],\n",
       "             pre_dispatch='2*n_jobs', refit=True, return_train_score=False,\n",
       "             scoring='precision_weighted', verbose=0)"
      ]
     },
     "execution_count": 66,
     "metadata": {},
     "output_type": "execute_result"
    }
   ],
   "source": [
    "grid_search_pres = GridSearchCV(svc_prec, param_grid, cv=5, scoring='precision_weighted')\n",
    "grid_search_pres"
   ]
  },
  {
   "cell_type": "code",
   "execution_count": 67,
   "metadata": {},
   "outputs": [
    {
     "data": {
      "text/plain": [
       "GridSearchCV(cv=5, error_score='raise-deprecating',\n",
       "             estimator=SVC(C=2, cache_size=200, class_weight=None, coef0=0.0,\n",
       "                           decision_function_shape='ovr', degree=3,\n",
       "                           gamma='auto', kernel='linear', max_iter=-1,\n",
       "                           probability=False, random_state=42, shrinking=True,\n",
       "                           tol=0.001, verbose=False),\n",
       "             iid='warn', n_jobs=None,\n",
       "             param_grid=[{'C': [1, 10, 100, 1000, 5000],\n",
       "                          'gamma': [0.001, 0.0001],\n",
       "                          'kernel': ['linear', 'poly', 'rbf', 'sigmoid']}],\n",
       "             pre_dispatch='2*n_jobs', refit=True, return_train_score=False,\n",
       "             scoring='precision_weighted', verbose=0)"
      ]
     },
     "execution_count": 67,
     "metadata": {},
     "output_type": "execute_result"
    }
   ],
   "source": [
    "grid_search_pres.fit(X_train, y_train)"
   ]
  },
  {
   "cell_type": "code",
   "execution_count": 68,
   "metadata": {},
   "outputs": [
    {
     "data": {
      "text/plain": [
       "{'C': 10, 'gamma': 0.001, 'kernel': 'rbf'}"
      ]
     },
     "execution_count": 68,
     "metadata": {},
     "output_type": "execute_result"
    }
   ],
   "source": [
    "grid_search_pres.best_params_"
   ]
  },
  {
   "cell_type": "code",
   "execution_count": 69,
   "metadata": {},
   "outputs": [
    {
     "data": {
      "text/plain": [
       "SVC(C=10, cache_size=200, class_weight=None, coef0=0.0,\n",
       "    decision_function_shape='ovr', degree=3, gamma=0.001, kernel='rbf',\n",
       "    max_iter=-1, probability=False, random_state=42, shrinking=True, tol=0.001,\n",
       "    verbose=False)"
      ]
     },
     "execution_count": 69,
     "metadata": {},
     "output_type": "execute_result"
    }
   ],
   "source": [
    "grid_search_pres.best_estimator_"
   ]
  },
  {
   "cell_type": "code",
   "execution_count": 70,
   "metadata": {},
   "outputs": [
    {
     "name": "stdout",
     "output_type": "stream",
     "text": [
      "0.9728983673744265 {'C': 1, 'gamma': 0.001, 'kernel': 'linear'}\n",
      "0.010759532473131224 {'C': 1, 'gamma': 0.001, 'kernel': 'poly'}\n",
      "0.94454287750469 {'C': 1, 'gamma': 0.001, 'kernel': 'rbf'}\n",
      "0.9257998295138287 {'C': 1, 'gamma': 0.001, 'kernel': 'sigmoid'}\n",
      "0.9728983673744265 {'C': 1, 'gamma': 0.0001, 'kernel': 'linear'}\n",
      "0.010759532473131224 {'C': 1, 'gamma': 0.0001, 'kernel': 'poly'}\n",
      "0.6009885195743979 {'C': 1, 'gamma': 0.0001, 'kernel': 'rbf'}\n",
      "0.04626518146334604 {'C': 1, 'gamma': 0.0001, 'kernel': 'sigmoid'}\n",
      "0.9728983673744265 {'C': 10, 'gamma': 0.001, 'kernel': 'linear'}\n",
      "0.11229070466312084 {'C': 10, 'gamma': 0.001, 'kernel': 'poly'}\n",
      "0.9804618803932585 {'C': 10, 'gamma': 0.001, 'kernel': 'rbf'}\n",
      "0.977861433202078 {'C': 10, 'gamma': 0.001, 'kernel': 'sigmoid'}\n",
      "0.9728983673744265 {'C': 10, 'gamma': 0.0001, 'kernel': 'linear'}\n",
      "0.010759532473131224 {'C': 10, 'gamma': 0.0001, 'kernel': 'poly'}\n",
      "0.945451233833934 {'C': 10, 'gamma': 0.0001, 'kernel': 'rbf'}\n",
      "0.9250891365623564 {'C': 10, 'gamma': 0.0001, 'kernel': 'sigmoid'}\n",
      "0.9728983673744265 {'C': 100, 'gamma': 0.001, 'kernel': 'linear'}\n",
      "0.5146467769517356 {'C': 100, 'gamma': 0.001, 'kernel': 'poly'}\n",
      "0.9765594957544925 {'C': 100, 'gamma': 0.001, 'kernel': 'rbf'}\n",
      "0.9736506121357689 {'C': 100, 'gamma': 0.001, 'kernel': 'sigmoid'}\n",
      "0.9728983673744265 {'C': 100, 'gamma': 0.0001, 'kernel': 'linear'}\n",
      "0.010759532473131224 {'C': 100, 'gamma': 0.0001, 'kernel': 'poly'}\n",
      "0.978330634526962 {'C': 100, 'gamma': 0.0001, 'kernel': 'rbf'}\n",
      "0.977861433202078 {'C': 100, 'gamma': 0.0001, 'kernel': 'sigmoid'}\n",
      "0.9728983673744265 {'C': 1000, 'gamma': 0.001, 'kernel': 'linear'}\n",
      "0.9162675634605896 {'C': 1000, 'gamma': 0.001, 'kernel': 'poly'}\n",
      "0.9758830050326951 {'C': 1000, 'gamma': 0.001, 'kernel': 'rbf'}\n",
      "0.9728983673744265 {'C': 1000, 'gamma': 0.001, 'kernel': 'sigmoid'}\n",
      "0.9728983673744265 {'C': 1000, 'gamma': 0.0001, 'kernel': 'linear'}\n",
      "0.010759532473131224 {'C': 1000, 'gamma': 0.0001, 'kernel': 'poly'}\n",
      "0.9743879546934178 {'C': 1000, 'gamma': 0.0001, 'kernel': 'rbf'}\n",
      "0.9736506121357689 {'C': 1000, 'gamma': 0.0001, 'kernel': 'sigmoid'}\n",
      "0.9728983673744265 {'C': 5000, 'gamma': 0.001, 'kernel': 'linear'}\n",
      "0.9623779389859518 {'C': 5000, 'gamma': 0.001, 'kernel': 'poly'}\n",
      "0.9758830050326951 {'C': 5000, 'gamma': 0.001, 'kernel': 'rbf'}\n",
      "0.9728983673744265 {'C': 5000, 'gamma': 0.001, 'kernel': 'sigmoid'}\n",
      "0.9728983673744265 {'C': 5000, 'gamma': 0.0001, 'kernel': 'linear'}\n",
      "0.09851768527375825 {'C': 5000, 'gamma': 0.0001, 'kernel': 'poly'}\n",
      "0.9728983673744265 {'C': 5000, 'gamma': 0.0001, 'kernel': 'rbf'}\n",
      "0.9728983673744265 {'C': 5000, 'gamma': 0.0001, 'kernel': 'sigmoid'}\n"
     ]
    }
   ],
   "source": [
    "sgd_cvres = grid_search_pres.cv_results_\n",
    "\n",
    "for param, score in zip(sgd_cvres['params'], sgd_cvres['mean_test_score']):\n",
    "    print(score, param)\n"
   ]
  },
  {
   "cell_type": "markdown",
   "metadata": {},
   "source": [
    "# Grid Search - Recall Scoring"
   ]
  },
  {
   "cell_type": "code",
   "execution_count": 71,
   "metadata": {},
   "outputs": [],
   "source": [
    "svc_recall = svm.SVC(kernel='linear', gamma='auto', C=2, random_state=42)"
   ]
  },
  {
   "cell_type": "code",
   "execution_count": 72,
   "metadata": {},
   "outputs": [],
   "source": [
    "grid_search_recall = GridSearchCV(svc_recall, param_grid, cv=5, scoring='recall_macro')"
   ]
  },
  {
   "cell_type": "code",
   "execution_count": 73,
   "metadata": {},
   "outputs": [
    {
     "data": {
      "text/plain": [
       "GridSearchCV(cv=5, error_score='raise-deprecating',\n",
       "             estimator=SVC(C=2, cache_size=200, class_weight=None, coef0=0.0,\n",
       "                           decision_function_shape='ovr', degree=3,\n",
       "                           gamma='auto', kernel='linear', max_iter=-1,\n",
       "                           probability=False, random_state=42, shrinking=True,\n",
       "                           tol=0.001, verbose=False),\n",
       "             iid='warn', n_jobs=None,\n",
       "             param_grid=[{'C': [1, 10, 100, 1000, 5000],\n",
       "                          'gamma': [0.001, 0.0001],\n",
       "                          'kernel': ['linear', 'poly', 'rbf', 'sigmoid']}],\n",
       "             pre_dispatch='2*n_jobs', refit=True, return_train_score=False,\n",
       "             scoring='recall_macro', verbose=0)"
      ]
     },
     "execution_count": 73,
     "metadata": {},
     "output_type": "execute_result"
    }
   ],
   "source": [
    "grid_search_recall.fit(X_train, y_train)"
   ]
  },
  {
   "cell_type": "code",
   "execution_count": 74,
   "metadata": {},
   "outputs": [
    {
     "data": {
      "text/plain": [
       "{'C': 10, 'gamma': 0.001, 'kernel': 'rbf'}"
      ]
     },
     "execution_count": 74,
     "metadata": {},
     "output_type": "execute_result"
    }
   ],
   "source": [
    "grid_search_recall.best_params_"
   ]
  },
  {
   "cell_type": "code",
   "execution_count": 75,
   "metadata": {},
   "outputs": [
    {
     "data": {
      "text/plain": [
       "SVC(C=10, cache_size=200, class_weight=None, coef0=0.0,\n",
       "    decision_function_shape='ovr', degree=3, gamma=0.001, kernel='rbf',\n",
       "    max_iter=-1, probability=False, random_state=42, shrinking=True, tol=0.001,\n",
       "    verbose=False)"
      ]
     },
     "execution_count": 75,
     "metadata": {},
     "output_type": "execute_result"
    }
   ],
   "source": [
    "grid_search_recall.best_estimator_"
   ]
  },
  {
   "cell_type": "code",
   "execution_count": 76,
   "metadata": {
    "scrolled": false
   },
   "outputs": [
    {
     "name": "stdout",
     "output_type": "stream",
     "text": [
      "0.9723610201725528 {'C': 1, 'gamma': 0.001, 'kernel': 'linear'}\n",
      "0.1 {'C': 1, 'gamma': 0.001, 'kernel': 'poly'}\n",
      "0.9415908521587261 {'C': 1, 'gamma': 0.001, 'kernel': 'rbf'}\n",
      "0.9208675494023321 {'C': 1, 'gamma': 0.001, 'kernel': 'sigmoid'}\n",
      "0.9723610201725528 {'C': 1, 'gamma': 0.0001, 'kernel': 'linear'}\n",
      "0.1 {'C': 1, 'gamma': 0.0001, 'kernel': 'poly'}\n",
      "0.37121952320390156 {'C': 1, 'gamma': 0.0001, 'kernel': 'rbf'}\n",
      "0.11993265023716397 {'C': 1, 'gamma': 0.0001, 'kernel': 'sigmoid'}\n",
      "0.9723610201725528 {'C': 10, 'gamma': 0.001, 'kernel': 'linear'}\n",
      "0.1054625296954863 {'C': 10, 'gamma': 0.001, 'kernel': 'poly'}\n",
      "0.9797499992699522 {'C': 10, 'gamma': 0.001, 'kernel': 'rbf'}\n",
      "0.9771144690768909 {'C': 10, 'gamma': 0.001, 'kernel': 'sigmoid'}\n",
      "0.9723610201725528 {'C': 10, 'gamma': 0.0001, 'kernel': 'linear'}\n",
      "0.1 {'C': 10, 'gamma': 0.0001, 'kernel': 'poly'}\n",
      "0.9422854837175859 {'C': 10, 'gamma': 0.0001, 'kernel': 'rbf'}\n",
      "0.9201716551782542 {'C': 10, 'gamma': 0.0001, 'kernel': 'sigmoid'}\n",
      "0.9723610201725528 {'C': 100, 'gamma': 0.001, 'kernel': 'linear'}\n",
      "0.16116885090609084 {'C': 100, 'gamma': 0.001, 'kernel': 'poly'}\n",
      "0.9758015645114005 {'C': 100, 'gamma': 0.001, 'kernel': 'rbf'}\n",
      "0.9729914932295369 {'C': 100, 'gamma': 0.001, 'kernel': 'sigmoid'}\n",
      "0.9723610201725528 {'C': 100, 'gamma': 0.0001, 'kernel': 'linear'}\n",
      "0.1 {'C': 100, 'gamma': 0.0001, 'kernel': 'poly'}\n",
      "0.9777191251056824 {'C': 100, 'gamma': 0.0001, 'kernel': 'rbf'}\n",
      "0.9771144690768909 {'C': 100, 'gamma': 0.0001, 'kernel': 'sigmoid'}\n",
      "0.9723610201725528 {'C': 1000, 'gamma': 0.001, 'kernel': 'linear'}\n",
      "0.7410055931815823 {'C': 1000, 'gamma': 0.001, 'kernel': 'poly'}\n",
      "0.9751224677341106 {'C': 1000, 'gamma': 0.001, 'kernel': 'rbf'}\n",
      "0.9723610201725528 {'C': 1000, 'gamma': 0.001, 'kernel': 'sigmoid'}\n",
      "0.9723610201725528 {'C': 1000, 'gamma': 0.0001, 'kernel': 'linear'}\n",
      "0.1 {'C': 1000, 'gamma': 0.0001, 'kernel': 'poly'}\n",
      "0.9737963664443638 {'C': 1000, 'gamma': 0.0001, 'kernel': 'rbf'}\n",
      "0.9729914932295369 {'C': 1000, 'gamma': 0.0001, 'kernel': 'sigmoid'}\n",
      "0.9723610201725528 {'C': 5000, 'gamma': 0.001, 'kernel': 'linear'}\n",
      "0.9464335973313008 {'C': 5000, 'gamma': 0.001, 'kernel': 'poly'}\n",
      "0.9751224677341106 {'C': 5000, 'gamma': 0.001, 'kernel': 'rbf'}\n",
      "0.9723610201725528 {'C': 5000, 'gamma': 0.001, 'kernel': 'sigmoid'}\n",
      "0.9723610201725528 {'C': 5000, 'gamma': 0.0001, 'kernel': 'linear'}\n",
      "0.10412105359985283 {'C': 5000, 'gamma': 0.0001, 'kernel': 'poly'}\n",
      "0.9723610201725528 {'C': 5000, 'gamma': 0.0001, 'kernel': 'rbf'}\n",
      "0.9723610201725528 {'C': 5000, 'gamma': 0.0001, 'kernel': 'sigmoid'}\n"
     ]
    }
   ],
   "source": [
    "cvres = grid_search_recall.cv_results_\n",
    "\n",
    "for param, score in zip(cvres['params'], cvres['mean_test_score']):\n",
    "    print(score, param)"
   ]
  },
  {
   "cell_type": "markdown",
   "metadata": {},
   "source": [
    "# Final Testing"
   ]
  },
  {
   "cell_type": "code",
   "execution_count": 77,
   "metadata": {},
   "outputs": [
    {
     "data": {
      "text/plain": [
       "array([[ 0.        , -0.35691531, -0.32091645, ..., -1.17359866,\n",
       "        -0.49529291, -0.18670359],\n",
       "       [ 0.        , -0.35691531,  0.2892768 , ...,  0.38991271,\n",
       "        -0.49529291, -0.18670359],\n",
       "       [ 0.        , -0.35691531,  1.10286781, ..., -0.82615169,\n",
       "        -0.49529291, -0.18670359],\n",
       "       ...,\n",
       "       [ 0.        , -0.35691531, -0.1175187 , ..., -1.17359866,\n",
       "        -0.49529291, -0.18670359],\n",
       "       [ 0.        ,  2.85532244,  0.89947006, ..., -0.82615169,\n",
       "        -0.49529291, -0.18670359],\n",
       "       [ 0.        , -0.35691531, -1.13450746, ..., -1.17359866,\n",
       "        -0.49529291, -0.18670359]])"
      ]
     },
     "execution_count": 77,
     "metadata": {},
     "output_type": "execute_result"
    }
   ],
   "source": [
    "shuffle_index = np.random.permutation(len(X_test))\n",
    "X_test, y_test = X_test[shuffle_index], y_test[shuffle_index]\n",
    "\n",
    "scaler = StandardScaler()\n",
    "X_test = scaler.fit_transform(X_test.astype(np.float64))\n",
    "X_test"
   ]
  },
  {
   "cell_type": "code",
   "execution_count": 78,
   "metadata": {},
   "outputs": [],
   "source": [
    "final_model = grid_search_pres.best_estimator_"
   ]
  },
  {
   "cell_type": "code",
   "execution_count": 79,
   "metadata": {},
   "outputs": [],
   "source": [
    "final_predictions = final_model.predict(X_test)"
   ]
  },
  {
   "cell_type": "code",
   "execution_count": 81,
   "metadata": {},
   "outputs": [
    {
     "data": {
      "text/plain": [
       "0.9888888888888889"
      ]
     },
     "execution_count": 81,
     "metadata": {},
     "output_type": "execute_result"
    }
   ],
   "source": [
    "sum(final_predictions == y_test) / len(X_test)"
   ]
  }
 ],
 "metadata": {
  "kernelspec": {
   "display_name": "Python 3.7.3 64-bit",
   "language": "python",
   "name": "python37364bitfa9893814aec4ef7b4684d6771155a64"
  },
  "language_info": {
   "codemirror_mode": {
    "name": "ipython",
    "version": 3
   },
   "file_extension": ".py",
   "mimetype": "text/x-python",
   "name": "python",
   "nbconvert_exporter": "python",
   "pygments_lexer": "ipython3",
   "version": "3.7.3"
  }
 },
 "nbformat": 4,
 "nbformat_minor": 2
}
