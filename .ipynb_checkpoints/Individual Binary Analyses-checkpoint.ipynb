{
 "cells": [
  {
   "cell_type": "code",
   "execution_count": 6,
   "metadata": {},
   "outputs": [],
   "source": [
    "import matplotlib\n",
    "import matplotlib.pyplot as plt\n",
    "from matplotlib import style\n",
    "%matplotlib inline\n",
    "import numpy as np\n",
    "\n",
    "from sklearn import datasets\n",
    "from sklearn.model_selection import train_test_split, cross_val_score, cross_val_predict\n",
    "from sklearn.linear_model import SGDClassifier\n",
    "from sklearn.model_selection import StratifiedKFold\n",
    "from sklearn.base import clone\n",
    "from sklearn.metrics import confusion_matrix, precision_score, recall_score, f1_score, precision_recall_curve, roc_curve, roc_auc_score\n",
    "from sklearn.ensemble import RandomForestClassifier\n",
    "\n",
    "mnist = datasets.load_digits()"
   ]
  },
  {
   "cell_type": "code",
   "execution_count": 7,
   "metadata": {},
   "outputs": [],
   "source": [
    "X = mnist['data']\n",
    "y = mnist['target']"
   ]
  },
  {
   "cell_type": "code",
   "execution_count": 8,
   "metadata": {},
   "outputs": [],
   "source": [
    "classes = set(y)"
   ]
  },
  {
   "cell_type": "markdown",
   "metadata": {},
   "source": [
    "# Data Splitting"
   ]
  },
  {
   "cell_type": "code",
   "execution_count": 9,
   "metadata": {},
   "outputs": [],
   "source": [
    "X_train, X_test, y_train, y_test = train_test_split(X, y, test_size=0.2)"
   ]
  },
  {
   "cell_type": "code",
   "execution_count": 10,
   "metadata": {},
   "outputs": [],
   "source": [
    "shuffle_index = np.random.permutation(len(X_train))\n",
    "X_train, y_train = X_train[shuffle_index], y_train[shuffle_index]"
   ]
  },
  {
   "cell_type": "markdown",
   "metadata": {},
   "source": [
    "# Helper Functions"
   ]
  },
  {
   "cell_type": "code",
   "execution_count": 11,
   "metadata": {},
   "outputs": [],
   "source": [
    "def plot_precision_recall_vs_threshold(precisions, recalls, thresholds):\n",
    "    plt.plot(thresholds, precisions[: -1], 'b--', label='Precision')\n",
    "    plt.plot(thresholds, recalls[: -1], 'g--', label='Recall')\n",
    "    plt.xlabel('Threshold')\n",
    "    plt.legend(loc='lower left')\n",
    "    plt.ylim([-0.5,1.25])"
   ]
  },
  {
   "cell_type": "code",
   "execution_count": 12,
   "metadata": {},
   "outputs": [],
   "source": [
    "def plot_roc_curve(fpr, tpr, label=None): # good classifier tries to stay as far in the top left as possible\n",
    "    plt.plot(fpr, tpr, linewidth=1, label=label)\n",
    "    plt.plot([0,1], [0,1], 'k--')\n",
    "    plt.axis([0,1,0,1])\n",
    "    plt.xlabel('False Positive Rate')\n",
    "    plt.ylabel('True Positive Rate')"
   ]
  },
  {
   "cell_type": "markdown",
   "metadata": {},
   "source": [
    "# Binary Models"
   ]
  },
  {
   "cell_type": "code",
   "execution_count": 17,
   "metadata": {},
   "outputs": [
    {
     "name": "stdout",
     "output_type": "stream",
     "text": [
      "SGD\n",
      "Cross_Val_Scores: [1.         1.         1.         0.99651568 0.9965035 ]\n",
      "Cross_Val_Scores Mean: 0.9986038351892011\n",
      "[[1308    1]\n",
      " [   1  127]]\n",
      "Precision score: 0.9921875\n",
      "Recall score: 0.9921875\n"
     ]
    },
    {
     "ename": "NameError",
     "evalue": "name 'y_scores' is not defined",
     "output_type": "error",
     "traceback": [
      "\u001b[0;31m---------------------------------------------------------------------------\u001b[0m",
      "\u001b[0;31mNameError\u001b[0m                                 Traceback (most recent call last)",
      "\u001b[0;32m<ipython-input-17-8a4c3e561143>\u001b[0m in \u001b[0;36m<module>\u001b[0;34m\u001b[0m\n\u001b[1;32m     37\u001b[0m \u001b[0;34m\u001b[0m\u001b[0m\n\u001b[1;32m     38\u001b[0m     \u001b[0;31m# Roc Curve\u001b[0m\u001b[0;34m\u001b[0m\u001b[0;34m\u001b[0m\u001b[0;34m\u001b[0m\u001b[0m\n\u001b[0;32m---> 39\u001b[0;31m     \u001b[0mfpr\u001b[0m\u001b[0;34m,\u001b[0m \u001b[0mtpr\u001b[0m\u001b[0;34m,\u001b[0m \u001b[0mthresholds\u001b[0m \u001b[0;34m=\u001b[0m \u001b[0mroc_curve\u001b[0m\u001b[0;34m(\u001b[0m\u001b[0mcur_y_train\u001b[0m\u001b[0;34m,\u001b[0m \u001b[0my_scores\u001b[0m\u001b[0;34m)\u001b[0m\u001b[0;34m\u001b[0m\u001b[0;34m\u001b[0m\u001b[0m\n\u001b[0m\u001b[1;32m     40\u001b[0m \u001b[0;34m\u001b[0m\u001b[0m\n\u001b[1;32m     41\u001b[0m     \u001b[0mprint\u001b[0m\u001b[0;34m(\u001b[0m\u001b[0mroc_auc_score\u001b[0m\u001b[0;34m(\u001b[0m\u001b[0mcur_y_train\u001b[0m\u001b[0;34m,\u001b[0m \u001b[0msgd_pred\u001b[0m\u001b[0;34m)\u001b[0m\u001b[0;34m)\u001b[0m\u001b[0;34m\u001b[0m\u001b[0;34m\u001b[0m\u001b[0m\n",
      "\u001b[0;31mNameError\u001b[0m: name 'y_scores' is not defined"
     ]
    },
    {
     "data": {
      "image/png": "[encoded data removed]",
      "text/plain": [
       "<Figure size 432x288 with 1 Axes>"
      ]
     },
     "metadata": {
      "needs_background": "light"
     },
     "output_type": "display_data"
    }
   ],
   "source": [
    "for number in classes:\n",
    "    cur_y_train = (y_train == number)\n",
    "    \n",
    "    #### SGD \n",
    "    print('SGD')\n",
    "    sgd = SGDClassifier(random_state=42)\n",
    "    \n",
    "    # cross val score\n",
    "    sgd_scores = cross_val_score(sgd, X_train, cur_y_train, cv=5, scoring='accuracy')\n",
    "    print(f'Cross_Val_Scores: {sgd_scores}')\n",
    "    print(f'Cross_Val_Scores Mean: {sgd_scores.mean()}')\n",
    "    \n",
    "    # cross val predict\n",
    "    sgd_pred = cross_val_predict(sgd, X_train, cur_y_train, cv=5)\n",
    "    sgd_conf_matrix = confusion_matrix(sgd_pred, cur_y_train)\n",
    "    print(sgd_conf_matrix)\n",
    "    \n",
    "    pres_score = precision_score(cur_y_train, sgd_pred) \n",
    "    rec_score = recall_score(cur_y_train, sgd_pred)\n",
    "    f1_score = f1_score(cur_y_train, sgd_pred) \n",
    "    print(f'Precision score: {pres_score}')\n",
    "    print(f'Recall score: {rec_score}')\n",
    "    print(f'f1 score: {f1_score}') \n",
    "    \n",
    "    # getting threshold and recall/precision graphs\n",
    "    precisions, recalls, thresholds = precision_recall_curve(cur_y_train, sgd_pred)\n",
    "    \n",
    "    # Precision and Recall over multiple Thresholds\n",
    "    plot_precision_recall_vs_threshold(precisions, recalls, thresholds)\n",
    "    plt.plot()\n",
    "    \n",
    "    # Precision vs Recall\n",
    "    plt.plot(precisions[:-1], recalls[: -1])\n",
    "    plt.xlabel('Precision')\n",
    "    plt.ylabel('Recall')\n",
    "    plt.title('Precision vs Recall')\n",
    "    \n",
    "    # Roc Curve\n",
    "    fpr, tpr, thresholds = roc_curve(cur_y_train, y_scores)\n",
    "    \n",
    "    print(roc_auc_score(cur_y_train, sgd_pred))\n",
    "    plot_roc_curve(fpr, tpr)\n",
    "    plt.plot()\n",
    "    \n",
    "    #### Random Forest Classifier\n",
    "    print('Random Forest')\n",
    "    \n",
    "    rfc = RandomForestClassifier(random_state=42)\n",
    "    \n",
    "    # Cross val scores\n",
    "    rfc_scores = cross_val_score(rfc, X_train, cur_y_train, cv=5, scoring='accuracy')\n",
    "    print(f'Cross_Val_Scores: {rfc_scores}')\n",
    "    print(f'Cross_Val_Scores Mean: {rfc_scores.mean()}')\n",
    "    \n",
    "    # Cross val predict\n",
    "    rfc_pred = cross_val_predict(rfc, X_train, cur_y_train, cv=5)\n",
    "\n",
    "    rfc_conf_matrix = confusion_matrix(cur_y_train, rfc_pred)\n",
    "    print(rfc_conf_matrix)\n",
    "    \n",
    "    pres_score = precision_score(cur_y_train, rfc_pred) \n",
    "    rec_score = recall_score(cur_y_train, rfc_pred)\n",
    "    f1_score = f1_score(cur_y_train, rfc_pred) \n",
    "    print(f'Precision score: {pres_score}')\n",
    "    print(f'Recall score: {rec_score}')\n",
    "    print(f'f1 score: {f1_score}') \n",
    "    \n",
    "    rfc_pred_2 = cross_val_predict(rfc, X_train, cur_y_train, cv=5, method='predict_proba')\n",
    "    y_scores_forest = rfc_pred_2[:, 1]\n",
    "    \n",
    "    fpr_forest, tpr_forest, thresholds = roc_curve(cur_y_train, y_scores_forest)\n",
    "    \n",
    "    plt.plot(fpr, tpr, 'b:', label='SGD')\n",
    "    plot_roc_curve(fpr_forest, tpr_forest, 'Random Forest')\n",
    "    plt.legend(loc='lower right')\n",
    "    plt.plot()\n",
    "    \n",
    "    print(roc_auc_score(cur_y_train, y_scores_forest))"
   ]
  },
  {
   "cell_type": "code",
   "execution_count": null,
   "metadata": {},
   "outputs": [],
   "source": []
  },
  {
   "cell_type": "code",
   "execution_count": null,
   "metadata": {},
   "outputs": [],
   "source": []
  }
 ],
 "metadata": {
  "kernelspec": {
   "display_name": "Python 3.7.3 64-bit",
   "language": "python",
   "name": "python37364bitfa9893814aec4ef7b4684d6771155a64"
  },
  "language_info": {
   "codemirror_mode": {
    "name": "ipython",
    "version": 3
   },
   "file_extension": ".py",
   "mimetype": "text/x-python",
   "name": "python",
   "nbconvert_exporter": "python",
   "pygments_lexer": "ipython3",
   "version": "3.7.3"
  }
 },
 "nbformat": 4,
 "nbformat_minor": 2
}
