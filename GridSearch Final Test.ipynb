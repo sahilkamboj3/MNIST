{
 "cells": [
  {
   "cell_type": "code",
   "execution_count": 66,
   "metadata": {},
   "outputs": [],
   "source": [
    "import numpy as np\n",
    "import matplotlib.pyplot as plt\n",
    "from matplotlib import style\n",
    "%matplotlib inline\n",
    "import warnings\n",
    "\n",
    "from sklearn import svm\n",
    "from sklearn import datasets\n",
    "from sklearn.model_selection import train_test_split, GridSearchCV\n",
    "from sklearn.preprocessing import StandardScaler\n",
    "\n",
    "warnings.filterwarnings('ignore')\n",
    "mnist = datasets.load_digits()"
   ]
  },
  {
   "cell_type": "code",
   "execution_count": 67,
   "metadata": {},
   "outputs": [],
   "source": [
    "X = mnist['data']\n",
    "y = mnist['target']"
   ]
  },
  {
   "cell_type": "markdown",
   "metadata": {},
   "source": [
    "# Data Splitting"
   ]
  },
  {
   "cell_type": "code",
   "execution_count": 68,
   "metadata": {},
   "outputs": [
    {
     "data": {
      "text/plain": [
       "array([[ 0.        , -0.33185831,  0.18273631, ..., -1.13120955,\n",
       "        -0.49133762, -0.19407567],\n",
       "       [ 0.        ,  0.77975099,  2.11198422, ...,  1.42575582,\n",
       "         2.23952516,  0.33312042],\n",
       "       [ 0.        , -0.33185831,  1.04017983, ...,  0.91436275,\n",
       "        -0.24307737, -0.19407567],\n",
       "       ...,\n",
       "       [ 0.        , -0.33185831, -0.03162457, ..., -0.96074519,\n",
       "        -0.49133762, -0.19407567],\n",
       "       [ 0.        , -0.33185831,  1.68326247, ...,  0.91436275,\n",
       "         0.00518289, -0.19407567],\n",
       "       [ 0.        ,  4.11457888,  1.68326247, ...,  0.06204096,\n",
       "        -0.49133762, -0.19407567]])"
      ]
     },
     "execution_count": 68,
     "metadata": {},
     "output_type": "execute_result"
    }
   ],
   "source": [
    "train_size = 0.8\n",
    "\n",
    "X_train, X_test, y_train, y_test = train_test_split(X, y, test_size=0.2)\n",
    "\n",
    "shuffle_index = np.random.permutation(len(X_train))\n",
    "X_train, y_train = X_train[shuffle_index], y_train[shuffle_index]\n",
    "\n",
    "scaler = StandardScaler()\n",
    "X_train = scaler.fit_transform(X_train.astype(np.float64))\n",
    "X_train"
   ]
  },
  {
   "cell_type": "markdown",
   "metadata": {},
   "source": [
    "# Grid Search - Precision Scoring"
   ]
  },
  {
   "cell_type": "code",
   "execution_count": 69,
   "metadata": {},
   "outputs": [],
   "source": [
    "svc_prec = svm.SVC(kernel='linear', gamma='auto', C=2, random_state=42)"
   ]
  },
  {
   "cell_type": "code",
   "execution_count": 70,
   "metadata": {},
   "outputs": [],
   "source": [
    "# Remove 'precomputed' from your parameter space.\n",
    "# kernel='precomputed'can only be used when passing a (n_samples, n_samples) data matrix that represents pairwise similarities for the samples instead of the traditional (n_samples, n_features) rectangular data matrix.\n",
    "\n",
    "param_grid = [\n",
    "    {\n",
    "        'kernel': ['linear', 'poly', 'rbf', 'sigmoid'], \n",
    "        'gamma': [1e-3, 1e-4],\n",
    "        'C': [1, 10, 100, 1000, 5000]\n",
    "    }\n",
    "]"
   ]
  },
  {
   "cell_type": "code",
   "execution_count": 71,
   "metadata": {},
   "outputs": [
    {
     "data": {
      "text/plain": [
       "GridSearchCV(cv=5, error_score='raise-deprecating',\n",
       "             estimator=SVC(C=2, cache_size=200, class_weight=None, coef0=0.0,\n",
       "                           decision_function_shape='ovr', degree=3,\n",
       "                           gamma='auto', kernel='linear', max_iter=-1,\n",
       "                           probability=False, random_state=42, shrinking=True,\n",
       "                           tol=0.001, verbose=False),\n",
       "             iid='warn', n_jobs=None,\n",
       "             param_grid=[{'C': [1, 10, 100, 1000, 5000],\n",
       "                          'gamma': [0.001, 0.0001],\n",
       "                          'kernel': ['linear', 'poly', 'rbf', 'sigmoid']}],\n",
       "             pre_dispatch='2*n_jobs', refit=True, return_train_score=False,\n",
       "             scoring='precision_weighted', verbose=0)"
      ]
     },
     "execution_count": 71,
     "metadata": {},
     "output_type": "execute_result"
    }
   ],
   "source": [
    "grid_search_pres = GridSearchCV(svc_prec, param_grid, cv=5, scoring='precision_weighted')\n",
    "grid_search_pres"
   ]
  },
  {
   "cell_type": "code",
   "execution_count": 72,
   "metadata": {},
   "outputs": [
    {
     "data": {
      "text/plain": [
       "GridSearchCV(cv=5, error_score='raise-deprecating',\n",
       "             estimator=SVC(C=2, cache_size=200, class_weight=None, coef0=0.0,\n",
       "                           decision_function_shape='ovr', degree=3,\n",
       "                           gamma='auto', kernel='linear', max_iter=-1,\n",
       "                           probability=False, random_state=42, shrinking=True,\n",
       "                           tol=0.001, verbose=False),\n",
       "             iid='warn', n_jobs=None,\n",
       "             param_grid=[{'C': [1, 10, 100, 1000, 5000],\n",
       "                          'gamma': [0.001, 0.0001],\n",
       "                          'kernel': ['linear', 'poly', 'rbf', 'sigmoid']}],\n",
       "             pre_dispatch='2*n_jobs', refit=True, return_train_score=False,\n",
       "             scoring='precision_weighted', verbose=0)"
      ]
     },
     "execution_count": 72,
     "metadata": {},
     "output_type": "execute_result"
    }
   ],
   "source": [
    "grid_search_pres.fit(X_train, y_train)"
   ]
  },
  {
   "cell_type": "code",
   "execution_count": 73,
   "metadata": {},
   "outputs": [
    {
     "data": {
      "text/plain": [
       "{'C': 1000, 'gamma': 0.0001, 'kernel': 'sigmoid'}"
      ]
     },
     "execution_count": 73,
     "metadata": {},
     "output_type": "execute_result"
    }
   ],
   "source": [
    "grid_search_pres.best_params_"
   ]
  },
  {
   "cell_type": "code",
   "execution_count": 74,
   "metadata": {},
   "outputs": [
    {
     "data": {
      "text/plain": [
       "SVC(C=1000, cache_size=200, class_weight=None, coef0=0.0,\n",
       "    decision_function_shape='ovr', degree=3, gamma=0.0001, kernel='sigmoid',\n",
       "    max_iter=-1, probability=False, random_state=42, shrinking=True, tol=0.001,\n",
       "    verbose=False)"
      ]
     },
     "execution_count": 74,
     "metadata": {},
     "output_type": "execute_result"
    }
   ],
   "source": [
    "grid_search_pres.best_estimator_"
   ]
  },
  {
   "cell_type": "code",
   "execution_count": 75,
   "metadata": {},
   "outputs": [
    {
     "data": {
      "text/plain": [
       "{'mean_fit_time': array([0.02975388, 0.16041036, 0.09225912, 0.10500488, 0.02608852,\n",
       "        0.15199718, 0.19867883, 0.17484756, 0.02826238, 0.16015534,\n",
       "        0.03948336, 0.04090471, 0.02626739, 0.18085518, 0.10185876,\n",
       "        0.10784593, 0.02680879, 0.17956128, 0.03462615, 0.04089475,\n",
       "        0.02977161, 0.17882605, 0.04117894, 0.04160562, 0.03461661,\n",
       "        0.14178333, 0.03677182, 0.03211918, 0.03757434, 0.1721437 ,\n",
       "        0.03440418, 0.04031048, 0.06651211, 0.14507589, 0.05453038,\n",
       "        0.03739457, 0.02788601, 0.17486606, 0.04176736, 0.05546222]),\n",
       " 'std_fit_time': array([0.00594097, 0.00302532, 0.00357459, 0.0036219 , 0.00275474,\n",
       "        0.00350767, 0.00733643, 0.00641419, 0.00099962, 0.00489491,\n",
       "        0.00105691, 0.00165826, 0.00093217, 0.01607248, 0.0164482 ,\n",
       "        0.0038424 , 0.00055788, 0.02749189, 0.00303432, 0.00642777,\n",
       "        0.00571827, 0.01005177, 0.00284252, 0.0023094 , 0.00807062,\n",
       "        0.03908069, 0.00245091, 0.00108157, 0.00818336, 0.00697744,\n",
       "        0.00279803, 0.00187972, 0.02062682, 0.01918946, 0.00578836,\n",
       "        0.00134337, 0.00160261, 0.00964159, 0.00309162, 0.0069106 ]),\n",
       " 'mean_score_time': array([0.00898337, 0.02267346, 0.02429514, 0.02327876, 0.00797009,\n",
       "        0.02142425, 0.02716446, 0.02507715, 0.0081202 , 0.02306595,\n",
       "        0.01270032, 0.01393948, 0.0077065 , 0.02628679, 0.02483125,\n",
       "        0.02435007, 0.00847759, 0.02586017, 0.01082673, 0.01162577,\n",
       "        0.00895686, 0.02536149, 0.01310625, 0.01414323, 0.00969234,\n",
       "        0.02029953, 0.01132393, 0.00978479, 0.0123138 , 0.02340035,\n",
       "        0.01052947, 0.01221075, 0.0198976 , 0.02337441, 0.0212492 ,\n",
       "        0.01104527, 0.00796647, 0.0241437 , 0.01328301, 0.01913681]),\n",
       " 'std_score_time': array([0.00109421, 0.00183196, 0.00192327, 0.00145852, 0.00139415,\n",
       "        0.00019358, 0.00096688, 0.00075814, 0.00017541, 0.00151477,\n",
       "        0.00031803, 0.0004607 , 0.00034207, 0.00210964, 0.00252658,\n",
       "        0.00189186, 0.00060405, 0.00249382, 0.00092627, 0.00248089,\n",
       "        0.00115823, 0.00210829, 0.00113534, 0.00081653, 0.00190153,\n",
       "        0.001714  , 0.00062833, 0.00043778, 0.00435513, 0.00245355,\n",
       "        0.00162316, 0.00094403, 0.00411238, 0.00443775, 0.01099023,\n",
       "        0.00101284, 0.00039529, 0.0030705 , 0.00102137, 0.00555272]),\n",
       " 'param_C': masked_array(data=[1, 1, 1, 1, 1, 1, 1, 1, 10, 10, 10, 10, 10, 10, 10, 10,\n",
       "                    100, 100, 100, 100, 100, 100, 100, 100, 1000, 1000,\n",
       "                    1000, 1000, 1000, 1000, 1000, 1000, 5000, 5000, 5000,\n",
       "                    5000, 5000, 5000, 5000, 5000],\n",
       "              mask=[False, False, False, False, False, False, False, False,\n",
       "                    False, False, False, False, False, False, False, False,\n",
       "                    False, False, False, False, False, False, False, False,\n",
       "                    False, False, False, False, False, False, False, False,\n",
       "                    False, False, False, False, False, False, False, False],\n",
       "        fill_value='?',\n",
       "             dtype=object),\n",
       " 'param_gamma': masked_array(data=[0.001, 0.001, 0.001, 0.001, 0.0001, 0.0001, 0.0001,\n",
       "                    0.0001, 0.001, 0.001, 0.001, 0.001, 0.0001, 0.0001,\n",
       "                    0.0001, 0.0001, 0.001, 0.001, 0.001, 0.001, 0.0001,\n",
       "                    0.0001, 0.0001, 0.0001, 0.001, 0.001, 0.001, 0.001,\n",
       "                    0.0001, 0.0001, 0.0001, 0.0001, 0.001, 0.001, 0.001,\n",
       "                    0.001, 0.0001, 0.0001, 0.0001, 0.0001],\n",
       "              mask=[False, False, False, False, False, False, False, False,\n",
       "                    False, False, False, False, False, False, False, False,\n",
       "                    False, False, False, False, False, False, False, False,\n",
       "                    False, False, False, False, False, False, False, False,\n",
       "                    False, False, False, False, False, False, False, False],\n",
       "        fill_value='?',\n",
       "             dtype=object),\n",
       " 'param_kernel': masked_array(data=['linear', 'poly', 'rbf', 'sigmoid', 'linear', 'poly',\n",
       "                    'rbf', 'sigmoid', 'linear', 'poly', 'rbf', 'sigmoid',\n",
       "                    'linear', 'poly', 'rbf', 'sigmoid', 'linear', 'poly',\n",
       "                    'rbf', 'sigmoid', 'linear', 'poly', 'rbf', 'sigmoid',\n",
       "                    'linear', 'poly', 'rbf', 'sigmoid', 'linear', 'poly',\n",
       "                    'rbf', 'sigmoid', 'linear', 'poly', 'rbf', 'sigmoid',\n",
       "                    'linear', 'poly', 'rbf', 'sigmoid'],\n",
       "              mask=[False, False, False, False, False, False, False, False,\n",
       "                    False, False, False, False, False, False, False, False,\n",
       "                    False, False, False, False, False, False, False, False,\n",
       "                    False, False, False, False, False, False, False, False,\n",
       "                    False, False, False, False, False, False, False, False],\n",
       "        fill_value='?',\n",
       "             dtype=object),\n",
       " 'params': [{'C': 1, 'gamma': 0.001, 'kernel': 'linear'},\n",
       "  {'C': 1, 'gamma': 0.001, 'kernel': 'poly'},\n",
       "  {'C': 1, 'gamma': 0.001, 'kernel': 'rbf'},\n",
       "  {'C': 1, 'gamma': 0.001, 'kernel': 'sigmoid'},\n",
       "  {'C': 1, 'gamma': 0.0001, 'kernel': 'linear'},\n",
       "  {'C': 1, 'gamma': 0.0001, 'kernel': 'poly'},\n",
       "  {'C': 1, 'gamma': 0.0001, 'kernel': 'rbf'},\n",
       "  {'C': 1, 'gamma': 0.0001, 'kernel': 'sigmoid'},\n",
       "  {'C': 10, 'gamma': 0.001, 'kernel': 'linear'},\n",
       "  {'C': 10, 'gamma': 0.001, 'kernel': 'poly'},\n",
       "  {'C': 10, 'gamma': 0.001, 'kernel': 'rbf'},\n",
       "  {'C': 10, 'gamma': 0.001, 'kernel': 'sigmoid'},\n",
       "  {'C': 10, 'gamma': 0.0001, 'kernel': 'linear'},\n",
       "  {'C': 10, 'gamma': 0.0001, 'kernel': 'poly'},\n",
       "  {'C': 10, 'gamma': 0.0001, 'kernel': 'rbf'},\n",
       "  {'C': 10, 'gamma': 0.0001, 'kernel': 'sigmoid'},\n",
       "  {'C': 100, 'gamma': 0.001, 'kernel': 'linear'},\n",
       "  {'C': 100, 'gamma': 0.001, 'kernel': 'poly'},\n",
       "  {'C': 100, 'gamma': 0.001, 'kernel': 'rbf'},\n",
       "  {'C': 100, 'gamma': 0.001, 'kernel': 'sigmoid'},\n",
       "  {'C': 100, 'gamma': 0.0001, 'kernel': 'linear'},\n",
       "  {'C': 100, 'gamma': 0.0001, 'kernel': 'poly'},\n",
       "  {'C': 100, 'gamma': 0.0001, 'kernel': 'rbf'},\n",
       "  {'C': 100, 'gamma': 0.0001, 'kernel': 'sigmoid'},\n",
       "  {'C': 1000, 'gamma': 0.001, 'kernel': 'linear'},\n",
       "  {'C': 1000, 'gamma': 0.001, 'kernel': 'poly'},\n",
       "  {'C': 1000, 'gamma': 0.001, 'kernel': 'rbf'},\n",
       "  {'C': 1000, 'gamma': 0.001, 'kernel': 'sigmoid'},\n",
       "  {'C': 1000, 'gamma': 0.0001, 'kernel': 'linear'},\n",
       "  {'C': 1000, 'gamma': 0.0001, 'kernel': 'poly'},\n",
       "  {'C': 1000, 'gamma': 0.0001, 'kernel': 'rbf'},\n",
       "  {'C': 1000, 'gamma': 0.0001, 'kernel': 'sigmoid'},\n",
       "  {'C': 5000, 'gamma': 0.001, 'kernel': 'linear'},\n",
       "  {'C': 5000, 'gamma': 0.001, 'kernel': 'poly'},\n",
       "  {'C': 5000, 'gamma': 0.001, 'kernel': 'rbf'},\n",
       "  {'C': 5000, 'gamma': 0.001, 'kernel': 'sigmoid'},\n",
       "  {'C': 5000, 'gamma': 0.0001, 'kernel': 'linear'},\n",
       "  {'C': 5000, 'gamma': 0.0001, 'kernel': 'poly'},\n",
       "  {'C': 5000, 'gamma': 0.0001, 'kernel': 'rbf'},\n",
       "  {'C': 5000, 'gamma': 0.0001, 'kernel': 'sigmoid'}],\n",
       " 'split0_test_score': array([0.99032281, 0.01192792, 0.9651472 , 0.9472928 , 0.99032281,\n",
       "        0.01192792, 0.62399581, 0.11492113, 0.99032281, 0.01196877,\n",
       "        0.98030109, 0.99008494, 0.99032281, 0.01192792, 0.96576727,\n",
       "        0.9472928 , 0.99032281, 0.55082015, 0.98700591, 0.98701994,\n",
       "        0.99032281, 0.01192792, 0.97996372, 0.99008494, 0.99032281,\n",
       "        0.91329262, 0.98700591, 0.98701994, 0.99032281, 0.01192792,\n",
       "        0.98721688, 0.99032281, 0.99032281, 0.98155251, 0.98700591,\n",
       "        0.98701994, 0.99032281, 0.12126633, 0.99032281, 0.98703625]),\n",
       " 'split1_test_score': array([0.96648838, 0.01134847, 0.92490391, 0.91936019, 0.96648838,\n",
       "        0.01134847, 0.5992217 , 0.06395309, 0.96648838, 0.01138761,\n",
       "        0.969786  , 0.94802508, 0.96648838, 0.01134847, 0.92627399,\n",
       "        0.91936019, 0.96648838, 0.39319563, 0.96989722, 0.97273577,\n",
       "        0.96648838, 0.01134847, 0.96412379, 0.94802508, 0.96648838,\n",
       "        0.8993862 , 0.96682017, 0.96648838, 0.96648838, 0.01134847,\n",
       "        0.97024701, 0.97273577, 0.96648838, 0.95669062, 0.96682017,\n",
       "        0.96648838, 0.96648838, 0.01138761, 0.96648838, 0.96648838]),\n",
       " 'split2_test_score': array([0.97419425, 0.01166701, 0.96285459, 0.93267166, 0.97419425,\n",
       "        0.01166701, 0.50594654, 0.12055488, 0.97419425, 0.1633582 ,\n",
       "        0.98715157, 0.97787258, 0.97419425, 0.01166701, 0.96285459,\n",
       "        0.93267166, 0.97419425, 0.49252084, 0.98041922, 0.97435329,\n",
       "        0.97419425, 0.01166701, 0.98437665, 0.97787258, 0.97419425,\n",
       "        0.89687327, 0.97630139, 0.97419425, 0.97419425, 0.01166701,\n",
       "        0.98029907, 0.97435329, 0.97419425, 0.96375895, 0.97630139,\n",
       "        0.97419425, 0.97419425, 0.19953128, 0.97618124, 0.97419425]),\n",
       " 'split3_test_score': array([0.99318091, 0.01199915, 0.93461284, 0.90902791, 0.99318091,\n",
       "        0.01199915, 0.60404177, 0.10955762, 0.99318091, 0.31252454,\n",
       "        0.98270205, 0.98270205, 0.99318091, 0.01199915, 0.93855737,\n",
       "        0.90902791, 0.99318091, 0.48282739, 0.99659263, 0.99659263,\n",
       "        0.99318091, 0.01199915, 0.98659897, 0.98270205, 0.99318091,\n",
       "        0.91068943, 0.99659263, 0.99318091, 0.99318091, 0.01199915,\n",
       "        0.99318526, 0.99659263, 0.99318091, 0.96272469, 0.99659263,\n",
       "        0.99318091, 0.99318091, 0.10749091, 0.98965169, 0.99318091]),\n",
       " 'split4_test_score': array([0.97567694, 0.01199915, 0.92438574, 0.90852261, 0.97567694,\n",
       "        0.01199915, 0.61375161, 0.10835719, 0.97567694, 0.12162519,\n",
       "        0.97621764, 0.96202255, 0.97567694, 0.01199915, 0.92438574,\n",
       "        0.90852261, 0.97567694, 0.5110474 , 0.97931663, 0.97931663,\n",
       "        0.97567694, 0.01199915, 0.97621764, 0.96202255, 0.97567694,\n",
       "        0.92246089, 0.97567694, 0.97567694, 0.97567694, 0.01199915,\n",
       "        0.97567694, 0.97931663, 0.97567694, 0.96377657, 0.97567694,\n",
       "        0.97567694, 0.97567694, 0.01199915, 0.97567694, 0.97567694]),\n",
       " 'mean_test_score': array([0.97995353, 0.01178653, 0.94249898, 0.923545  , 0.97995353,\n",
       "        0.01178653, 0.58945475, 0.10337605, 0.97995353, 0.12287322,\n",
       "        0.97920857, 0.972148  , 0.97995353, 0.01178653, 0.94367969,\n",
       "        0.923545  , 0.97995353, 0.4860336 , 0.98259949, 0.98196567,\n",
       "        0.97995353, 0.01178653, 0.9782064 , 0.972148  , 0.97995353,\n",
       "        0.90849011, 0.98043715, 0.97928008, 0.97995353, 0.01178653,\n",
       "        0.9813015 , 0.98263911, 0.97995353, 0.96575541, 0.98043715,\n",
       "        0.97928008, 0.97995353, 0.09041475, 0.97965534, 0.97928341]),\n",
       " 'std_test_score': array([0.0101648 , 0.00025218, 0.01808027, 0.01487007, 0.0101648 ,\n",
       "        0.00025218, 0.04258558, 0.02032872, 0.0101648 , 0.11151632,\n",
       "        0.00591513, 0.01523529, 0.0101648 , 0.00025218, 0.01768434,\n",
       "        0.01487007, 0.0101648 , 0.05229568, 0.00884684, 0.00880627,\n",
       "        0.0101648 , 0.00025218, 0.00794006, 0.01523529, 0.0101648 ,\n",
       "        0.0093718 , 0.01027746, 0.00954608, 0.0101648 , 0.00025218,\n",
       "        0.0081317 , 0.00928055, 0.0101648 , 0.00842011, 0.01027746,\n",
       "        0.00954608, 0.0101648 , 0.0714503 , 0.00913879, 0.00954878]),\n",
       " 'rank_test_score': array([ 7, 36, 27, 28,  7, 36, 31, 34,  7, 33, 21, 23,  7, 36, 26, 28,  7,\n",
       "        32,  2,  3,  7, 36, 22, 23,  7, 30,  5, 19,  7, 36,  4,  1,  7, 25,\n",
       "         5, 19,  7, 35, 17, 18], dtype=int32)}"
      ]
     },
     "execution_count": 75,
     "metadata": {},
     "output_type": "execute_result"
    }
   ],
   "source": [
    "sgd_cvres = grid_search_pres.cv_results_\n",
    "sgd_cvres"
   ]
  },
  {
   "cell_type": "markdown",
   "metadata": {},
   "source": [
    "# Grid Search - Recall Scoring"
   ]
  },
  {
   "cell_type": "code",
   "execution_count": 76,
   "metadata": {},
   "outputs": [],
   "source": [
    "svc_recall = svm.SVC(kernel='linear', gamma='auto', C=2, random_state=42)"
   ]
  },
  {
   "cell_type": "code",
   "execution_count": 77,
   "metadata": {},
   "outputs": [],
   "source": [
    "grid_search_recall = GridSearchCV(svc_recall, param_grid, cv=5, scoring='recall_macro')"
   ]
  },
  {
   "cell_type": "code",
   "execution_count": 78,
   "metadata": {},
   "outputs": [
    {
     "data": {
      "text/plain": [
       "GridSearchCV(cv=5, error_score='raise-deprecating',\n",
       "             estimator=SVC(C=2, cache_size=200, class_weight=None, coef0=0.0,\n",
       "                           decision_function_shape='ovr', degree=3,\n",
       "                           gamma='auto', kernel='linear', max_iter=-1,\n",
       "                           probability=False, random_state=42, shrinking=True,\n",
       "                           tol=0.001, verbose=False),\n",
       "             iid='warn', n_jobs=None,\n",
       "             param_grid=[{'C': [1, 10, 100, 1000, 5000],\n",
       "                          'gamma': [0.001, 0.0001],\n",
       "                          'kernel': ['linear', 'poly', 'rbf', 'sigmoid']}],\n",
       "             pre_dispatch='2*n_jobs', refit=True, return_train_score=False,\n",
       "             scoring='recall_macro', verbose=0)"
      ]
     },
     "execution_count": 78,
     "metadata": {},
     "output_type": "execute_result"
    }
   ],
   "source": [
    "grid_search_recall.fit(X_train, y_train)"
   ]
  },
  {
   "cell_type": "code",
   "execution_count": 79,
   "metadata": {},
   "outputs": [
    {
     "data": {
      "text/plain": [
       "{'C': 1000, 'gamma': 0.0001, 'kernel': 'sigmoid'}"
      ]
     },
     "execution_count": 79,
     "metadata": {},
     "output_type": "execute_result"
    }
   ],
   "source": [
    "grid_search_recall.best_params_"
   ]
  },
  {
   "cell_type": "code",
   "execution_count": 80,
   "metadata": {},
   "outputs": [
    {
     "data": {
      "text/plain": [
       "SVC(C=1000, cache_size=200, class_weight=None, coef0=0.0,\n",
       "    decision_function_shape='ovr', degree=3, gamma=0.0001, kernel='sigmoid',\n",
       "    max_iter=-1, probability=False, random_state=42, shrinking=True, tol=0.001,\n",
       "    verbose=False)"
      ]
     },
     "execution_count": 80,
     "metadata": {},
     "output_type": "execute_result"
    }
   ],
   "source": [
    "grid_search_recall.best_estimator_"
   ]
  },
  {
   "cell_type": "code",
   "execution_count": 81,
   "metadata": {},
   "outputs": [
    {
     "data": {
      "text/plain": [
       "{'mean_fit_time': array([0.04212451, 0.23351817, 0.12083087, 0.14213524, 0.02794867,\n",
       "        0.18436584, 0.25995588, 0.23515201, 0.04429321, 0.19737568,\n",
       "        0.04616261, 0.0470849 , 0.02796903, 0.18280797, 0.11319594,\n",
       "        0.13219023, 0.03437524, 0.18181376, 0.03698001, 0.03113799,\n",
       "        0.02783699, 0.171105  , 0.04197083, 0.04382472, 0.02822919,\n",
       "        0.12486463, 0.04123302, 0.03456798, 0.02979927, 0.19082046,\n",
       "        0.05278835, 0.04782491, 0.03599043, 0.09211149, 0.037748  ,\n",
       "        0.03305879, 0.02817187, 0.24071789, 0.04862075, 0.0445786 ]),\n",
       " 'std_fit_time': array([0.00252782, 0.05236961, 0.00837652, 0.01099661, 0.00081859,\n",
       "        0.0094558 , 0.00962799, 0.00765199, 0.00722321, 0.02620757,\n",
       "        0.00047707, 0.00222362, 0.0018383 , 0.01506021, 0.00492932,\n",
       "        0.01107365, 0.00121565, 0.01515954, 0.00137631, 0.0009875 ,\n",
       "        0.00131896, 0.00336343, 0.00275559, 0.00082307, 0.00099002,\n",
       "        0.00096376, 0.00335838, 0.00212048, 0.00341016, 0.01401675,\n",
       "        0.01259478, 0.00361916, 0.00359322, 0.00489683, 0.00168385,\n",
       "        0.00169893, 0.00134558, 0.05047552, 0.00535722, 0.00485236]),\n",
       " 'mean_score_time': array([0.0126296 , 0.02857938, 0.03122873, 0.02838421, 0.00828934,\n",
       "        0.02608089, 0.03546515, 0.03110976, 0.01204238, 0.02598124,\n",
       "        0.01486006, 0.01580844, 0.00825343, 0.02489562, 0.0280108 ,\n",
       "        0.0284862 , 0.00987635, 0.02626452, 0.0113852 , 0.00987296,\n",
       "        0.00808239, 0.02293677, 0.01400414, 0.01564026, 0.00821295,\n",
       "        0.02011962, 0.01303415, 0.01020851, 0.00878148, 0.02666421,\n",
       "        0.01501293, 0.01480861, 0.01033278, 0.01609249, 0.0120337 ,\n",
       "        0.00988011, 0.00851998, 0.03644261, 0.01269183, 0.01290083]),\n",
       " 'std_score_time': array([0.00169534, 0.00497241, 0.0046777 , 0.0012605 , 0.00035926,\n",
       "        0.00134489, 0.00040702, 0.00018094, 0.00176149, 0.00159814,\n",
       "        0.00031723, 0.00090087, 0.0003009 , 0.00155178, 0.00299688,\n",
       "        0.00214665, 0.00082436, 0.00196457, 0.00070211, 0.00024739,\n",
       "        0.00049345, 0.00075717, 0.000702  , 0.00174003, 0.00059204,\n",
       "        0.00060599, 0.0008951 , 0.00047997, 0.00091039, 0.00180993,\n",
       "        0.00290745, 0.00135162, 0.00128859, 0.00112952, 0.00129176,\n",
       "        0.00081156, 0.00054685, 0.006713  , 0.00146489, 0.00095516]),\n",
       " 'param_C': masked_array(data=[1, 1, 1, 1, 1, 1, 1, 1, 10, 10, 10, 10, 10, 10, 10, 10,\n",
       "                    100, 100, 100, 100, 100, 100, 100, 100, 1000, 1000,\n",
       "                    1000, 1000, 1000, 1000, 1000, 1000, 5000, 5000, 5000,\n",
       "                    5000, 5000, 5000, 5000, 5000],\n",
       "              mask=[False, False, False, False, False, False, False, False,\n",
       "                    False, False, False, False, False, False, False, False,\n",
       "                    False, False, False, False, False, False, False, False,\n",
       "                    False, False, False, False, False, False, False, False,\n",
       "                    False, False, False, False, False, False, False, False],\n",
       "        fill_value='?',\n",
       "             dtype=object),\n",
       " 'param_gamma': masked_array(data=[0.001, 0.001, 0.001, 0.001, 0.0001, 0.0001, 0.0001,\n",
       "                    0.0001, 0.001, 0.001, 0.001, 0.001, 0.0001, 0.0001,\n",
       "                    0.0001, 0.0001, 0.001, 0.001, 0.001, 0.001, 0.0001,\n",
       "                    0.0001, 0.0001, 0.0001, 0.001, 0.001, 0.001, 0.001,\n",
       "                    0.0001, 0.0001, 0.0001, 0.0001, 0.001, 0.001, 0.001,\n",
       "                    0.001, 0.0001, 0.0001, 0.0001, 0.0001],\n",
       "              mask=[False, False, False, False, False, False, False, False,\n",
       "                    False, False, False, False, False, False, False, False,\n",
       "                    False, False, False, False, False, False, False, False,\n",
       "                    False, False, False, False, False, False, False, False,\n",
       "                    False, False, False, False, False, False, False, False],\n",
       "        fill_value='?',\n",
       "             dtype=object),\n",
       " 'param_kernel': masked_array(data=['linear', 'poly', 'rbf', 'sigmoid', 'linear', 'poly',\n",
       "                    'rbf', 'sigmoid', 'linear', 'poly', 'rbf', 'sigmoid',\n",
       "                    'linear', 'poly', 'rbf', 'sigmoid', 'linear', 'poly',\n",
       "                    'rbf', 'sigmoid', 'linear', 'poly', 'rbf', 'sigmoid',\n",
       "                    'linear', 'poly', 'rbf', 'sigmoid', 'linear', 'poly',\n",
       "                    'rbf', 'sigmoid', 'linear', 'poly', 'rbf', 'sigmoid',\n",
       "                    'linear', 'poly', 'rbf', 'sigmoid'],\n",
       "              mask=[False, False, False, False, False, False, False, False,\n",
       "                    False, False, False, False, False, False, False, False,\n",
       "                    False, False, False, False, False, False, False, False,\n",
       "                    False, False, False, False, False, False, False, False,\n",
       "                    False, False, False, False, False, False, False, False],\n",
       "        fill_value='?',\n",
       "             dtype=object),\n",
       " 'params': [{'C': 1, 'gamma': 0.001, 'kernel': 'linear'},\n",
       "  {'C': 1, 'gamma': 0.001, 'kernel': 'poly'},\n",
       "  {'C': 1, 'gamma': 0.001, 'kernel': 'rbf'},\n",
       "  {'C': 1, 'gamma': 0.001, 'kernel': 'sigmoid'},\n",
       "  {'C': 1, 'gamma': 0.0001, 'kernel': 'linear'},\n",
       "  {'C': 1, 'gamma': 0.0001, 'kernel': 'poly'},\n",
       "  {'C': 1, 'gamma': 0.0001, 'kernel': 'rbf'},\n",
       "  {'C': 1, 'gamma': 0.0001, 'kernel': 'sigmoid'},\n",
       "  {'C': 10, 'gamma': 0.001, 'kernel': 'linear'},\n",
       "  {'C': 10, 'gamma': 0.001, 'kernel': 'poly'},\n",
       "  {'C': 10, 'gamma': 0.001, 'kernel': 'rbf'},\n",
       "  {'C': 10, 'gamma': 0.001, 'kernel': 'sigmoid'},\n",
       "  {'C': 10, 'gamma': 0.0001, 'kernel': 'linear'},\n",
       "  {'C': 10, 'gamma': 0.0001, 'kernel': 'poly'},\n",
       "  {'C': 10, 'gamma': 0.0001, 'kernel': 'rbf'},\n",
       "  {'C': 10, 'gamma': 0.0001, 'kernel': 'sigmoid'},\n",
       "  {'C': 100, 'gamma': 0.001, 'kernel': 'linear'},\n",
       "  {'C': 100, 'gamma': 0.001, 'kernel': 'poly'},\n",
       "  {'C': 100, 'gamma': 0.001, 'kernel': 'rbf'},\n",
       "  {'C': 100, 'gamma': 0.001, 'kernel': 'sigmoid'},\n",
       "  {'C': 100, 'gamma': 0.0001, 'kernel': 'linear'},\n",
       "  {'C': 100, 'gamma': 0.0001, 'kernel': 'poly'},\n",
       "  {'C': 100, 'gamma': 0.0001, 'kernel': 'rbf'},\n",
       "  {'C': 100, 'gamma': 0.0001, 'kernel': 'sigmoid'},\n",
       "  {'C': 1000, 'gamma': 0.001, 'kernel': 'linear'},\n",
       "  {'C': 1000, 'gamma': 0.001, 'kernel': 'poly'},\n",
       "  {'C': 1000, 'gamma': 0.001, 'kernel': 'rbf'},\n",
       "  {'C': 1000, 'gamma': 0.001, 'kernel': 'sigmoid'},\n",
       "  {'C': 1000, 'gamma': 0.0001, 'kernel': 'linear'},\n",
       "  {'C': 1000, 'gamma': 0.0001, 'kernel': 'poly'},\n",
       "  {'C': 1000, 'gamma': 0.0001, 'kernel': 'rbf'},\n",
       "  {'C': 1000, 'gamma': 0.0001, 'kernel': 'sigmoid'},\n",
       "  {'C': 5000, 'gamma': 0.001, 'kernel': 'linear'},\n",
       "  {'C': 5000, 'gamma': 0.001, 'kernel': 'poly'},\n",
       "  {'C': 5000, 'gamma': 0.001, 'kernel': 'rbf'},\n",
       "  {'C': 5000, 'gamma': 0.001, 'kernel': 'sigmoid'},\n",
       "  {'C': 5000, 'gamma': 0.0001, 'kernel': 'linear'},\n",
       "  {'C': 5000, 'gamma': 0.0001, 'kernel': 'poly'},\n",
       "  {'C': 5000, 'gamma': 0.0001, 'kernel': 'rbf'},\n",
       "  {'C': 5000, 'gamma': 0.0001, 'kernel': 'sigmoid'}],\n",
       " 'split0_test_score': array([0.9898553 , 0.1       , 0.96069092, 0.9389592 , 0.9898553 ,\n",
       "        0.1       , 0.44260766, 0.184375  , 0.9898553 , 0.1       ,\n",
       "        0.97910438, 0.98913414, 0.9898553 , 0.1       , 0.96081407,\n",
       "        0.9389592 , 0.9898553 , 0.15543411, 0.98652196, 0.9867303 ,\n",
       "        0.9898553 , 0.1       , 0.97955081, 0.98913414, 0.9898553 ,\n",
       "        0.88393252, 0.98652196, 0.9867303 , 0.9898553 , 0.1       ,\n",
       "        0.98652196, 0.9898553 , 0.9898553 , 0.97964696, 0.98652196,\n",
       "        0.9867303 , 0.9898553 , 0.109375  , 0.9898553 , 0.98640702]),\n",
       " 'split1_test_score': array([0.96601666, 0.1       , 0.92080541, 0.91344009, 0.96601666,\n",
       "        0.1       , 0.40205564, 0.2       , 0.96601666, 0.1       ,\n",
       "        0.9698546 , 0.94580778, 0.96601666, 0.1       , 0.92120329,\n",
       "        0.91344009, 0.96601666, 0.13586586, 0.96924246, 0.97308862,\n",
       "        0.96601666, 0.1       , 0.96329546, 0.94580778, 0.96601666,\n",
       "        0.83142731, 0.96601666, 0.96601666, 0.96601666, 0.1       ,\n",
       "        0.96986281, 0.97308862, 0.96601666, 0.93208343, 0.96601666,\n",
       "        0.96601666, 0.96601666, 0.1       , 0.96601666, 0.96601666]),\n",
       " 'split2_test_score': array([0.97001832, 0.1       , 0.96069913, 0.92466437, 0.97001832,\n",
       "        0.1       , 0.37621602, 0.16451613, 0.97001832, 0.10679724,\n",
       "        0.98564103, 0.97464289, 0.97001832, 0.1       , 0.96069913,\n",
       "        0.92466437, 0.97001832, 0.14471871, 0.97706553, 0.97016077,\n",
       "        0.97001832, 0.1       , 0.98193732, 0.97464289, 0.97001832,\n",
       "        0.83067157, 0.97373219, 0.97001832, 0.97001832, 0.1       ,\n",
       "        0.9771978 , 0.97016077, 0.97001832, 0.95129342, 0.97373219,\n",
       "        0.97001832, 0.97001832, 0.11970046, 0.97386447, 0.97001832]),\n",
       " 'split3_test_score': array([0.99277419, 0.1       , 0.93168333, 0.90265688, 0.99277419,\n",
       "        0.1       , 0.43364623, 0.17096774, 0.99277419, 0.11385902,\n",
       "        0.98234708, 0.98234708, 0.99277419, 0.1       , 0.93525476,\n",
       "        0.90265688, 0.99277419, 0.16483615, 0.99642857, 0.99677419,\n",
       "        0.99277419, 0.1       , 0.98591851, 0.98234708, 0.99277419,\n",
       "        0.85434113, 0.99642857, 0.99277419, 0.99277419, 0.1       ,\n",
       "        0.99320276, 0.99677419, 0.99277419, 0.94286706, 0.99642857,\n",
       "        0.99277419, 0.99277419, 0.1037037 , 0.98920276, 0.99277419]),\n",
       " 'split4_test_score': array([0.97440382, 0.1       , 0.91927064, 0.9002918 , 0.97440382,\n",
       "        0.1       , 0.42280879, 0.18387097, 0.97440382, 0.10645161,\n",
       "        0.97403345, 0.95925184, 0.97440382, 0.1       , 0.91927064,\n",
       "        0.9002918 , 0.97440382, 0.16025772, 0.97773716, 0.97773716,\n",
       "        0.97440382, 0.1       , 0.97403345, 0.95925184, 0.97440382,\n",
       "        0.88080673, 0.97440382, 0.97440382, 0.97440382, 0.1       ,\n",
       "        0.97440382, 0.97773716, 0.97440382, 0.95493226, 0.97440382,\n",
       "        0.97440382, 0.97440382, 0.1       , 0.97440382, 0.97440382]),\n",
       " 'mean_test_score': array([0.97859783, 0.1       , 0.93874561, 0.91617207, 0.97859783,\n",
       "        0.1       , 0.41547182, 0.18083324, 0.97859783, 0.10535749,\n",
       "        0.97817671, 0.97024452, 0.97859783, 0.1       , 0.93955464,\n",
       "        0.91617207, 0.97859783, 0.15213291, 0.98135504, 0.98086543,\n",
       "        0.97859783, 0.1       , 0.97690312, 0.97024452, 0.97859783,\n",
       "        0.85621932, 0.9793796 , 0.97796065, 0.97859783, 0.1       ,\n",
       "        0.98021534, 0.9815026 , 0.97859783, 0.95224165, 0.9793796 ,\n",
       "        0.97796065, 0.97859783, 0.10657554, 0.97866264, 0.97789474]),\n",
       " 'std_test_score': array([0.01075348, 0.        , 0.01855117, 0.01440231, 0.01075348,\n",
       "        0.        , 0.02387502, 0.01229274, 0.01075348, 0.00515252,\n",
       "        0.00566869, 0.01581735, 0.01075348, 0.        , 0.01828428,\n",
       "        0.01440231, 0.01075348, 0.01056257, 0.00928187, 0.00969107,\n",
       "        0.01075348, 0.        , 0.00784964, 0.01581735, 0.01075348,\n",
       "        0.0230472 , 0.01072621, 0.01014281, 0.01075348, 0.        ,\n",
       "        0.00845584, 0.0101477 , 0.01075348, 0.015948  , 0.01072621,\n",
       "        0.01014281, 0.01075348, 0.00740932, 0.0093796 , 0.0100865 ]),\n",
       " 'rank_test_score': array([ 8, 36, 27, 28,  8, 36, 31, 32,  8, 35, 18, 23,  8, 36, 26, 28,  8,\n",
       "        33,  2,  3,  8, 36, 22, 23,  8, 30,  5, 19,  8, 36,  4,  1,  8, 25,\n",
       "         5, 19,  8, 34,  7, 21], dtype=int32)}"
      ]
     },
     "execution_count": 81,
     "metadata": {},
     "output_type": "execute_result"
    }
   ],
   "source": [
    "cvres = grid_search_recall.cv_results_\n",
    "cvres"
   ]
  },
  {
   "cell_type": "markdown",
   "metadata": {},
   "source": [
    "# Final Testing"
   ]
  },
  {
   "cell_type": "code",
   "execution_count": 82,
   "metadata": {},
   "outputs": [
    {
     "data": {
      "text/plain": [
       "array([[ 0.        , -0.3474534 ,  0.8980759 , ...,  0.12082506,\n",
       "        -0.56231903, -0.20553692],\n",
       "       [ 0.        ,  2.85980878,  1.68471173, ..., -1.21241698,\n",
       "        -0.56231903, -0.20553692],\n",
       "       [ 0.        , -0.3474534 ,  0.8980759 , ...,  0.45413557,\n",
       "        -0.33016897, -0.20553692],\n",
       "       ...,\n",
       "       [ 0.        , -0.3474534 ,  0.50475799, ..., -0.04583019,\n",
       "        -0.56231903, -0.20553692],\n",
       "       [ 0.        , -0.3474534 , -1.06851367, ..., -1.21241698,\n",
       "        -0.56231903, -0.20553692],\n",
       "       [ 0.        , -0.3474534 , -1.06851367, ...,  1.4540671 ,\n",
       "        -0.33016897, -0.20553692]])"
      ]
     },
     "execution_count": 82,
     "metadata": {},
     "output_type": "execute_result"
    }
   ],
   "source": [
    "shuffle_index = np.random.permutation(len(X_test))\n",
    "X_test, y_test = X_test[shuffle_index], y_test[shuffle_index]\n",
    "\n",
    "scaler = StandardScaler()\n",
    "X_test = scaler.fit_transform(X_test.astype(np.float64))\n",
    "X_test"
   ]
  },
  {
   "cell_type": "code",
   "execution_count": 83,
   "metadata": {},
   "outputs": [],
   "source": [
    "final_model = grid_search_pres.best_estimator_"
   ]
  },
  {
   "cell_type": "code",
   "execution_count": 84,
   "metadata": {},
   "outputs": [],
   "source": [
    "final_predictions = final_model.predict(X_test)"
   ]
  },
  {
   "cell_type": "code",
   "execution_count": 85,
   "metadata": {},
   "outputs": [
    {
     "data": {
      "text/plain": [
       "0.9861111111111112"
      ]
     },
     "execution_count": 85,
     "metadata": {},
     "output_type": "execute_result"
    }
   ],
   "source": [
    "sum(final_predictions == y_test) / len(X_test)"
   ]
  }
 ],
 "metadata": {
  "kernelspec": {
   "display_name": "Python 3.7.3 64-bit",
   "language": "python",
   "name": "python37364bitfa9893814aec4ef7b4684d6771155a64"
  },
  "language_info": {
   "codemirror_mode": {
    "name": "ipython",
    "version": 3
   },
   "file_extension": ".py",
   "mimetype": "text/x-python",
   "name": "python",
   "nbconvert_exporter": "python",
   "pygments_lexer": "ipython3",
   "version": "3.7.3"
  }
 },
 "nbformat": 4,
 "nbformat_minor": 2
}
